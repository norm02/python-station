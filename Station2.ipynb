{
  "cells": [
    {
      "cell_type": "markdown",
      "metadata": {
        "id": "HOr3BPTXukaz"
      },
      "source": [
        "| Version | Published Date| Details | \n",
        "| -- | -- | -- |\n",
        "| ver.1.0.0 | 2023/3/29 | 初版リリース |"
      ]
    },
    {
      "cell_type": "markdown",
      "metadata": {
        "id": "niOBbPB8r4wS"
      },
      "source": [
        "# もっとPythonを使えるようになろう\n",
        "\n",
        "Station1ではPythonの基本的な操作について学びました。変数，コメント，型，代入，算術演算子，比較演算子については覚えているでしょうか？\n",
        "\n",
        "さてStation2では，より本格的にPythonの操作について学びます。具体的にはメソッドや複合データ型といった概念を学びます。見慣れない単語が出てきて戸惑ってしまうかもしれませんが，Pythonでデータ分析を学ぶにはとても重要な概念です。きちんと理解して次に進みましょう。"
      ]
    },
    {
      "cell_type": "markdown",
      "metadata": {
        "id": "nfsNzJ8htv7W"
      },
      "source": [
        "# メソッド\n",
        "\n",
        "Station1で学んだ `str` 型の変数には，いくつか便利な機能があります。たとえば，文字列の持つすべての文字を大文字や小文字に変換する `lower()` や `upper()` といった機能があります。こういった型が持つ関数のことを **メソッド (Method)** と呼びます。"
      ]
    },
    {
      "cell_type": "code",
      "execution_count": null,
      "metadata": {
        "id": "9m5vR_KCurNu",
        "colab": {
          "base_uri": "https://localhost:8080/",
          "height": 35
        },
        "outputId": "57d96b0e-5f94-4735-8407-b45284ba51cc"
      },
      "outputs": [
        {
          "output_type": "execute_result",
          "data": {
            "text/plain": [
              "'Techtrain'"
            ],
            "application/vnd.google.colaboratory.intrinsic+json": {
              "type": "string"
            }
          },
          "metadata": {},
          "execution_count": 1
        }
      ],
      "source": [
        "name = \"Techtrain\"\n",
        "name"
      ]
    },
    {
      "cell_type": "code",
      "execution_count": null,
      "metadata": {
        "id": "kUvxpx4buuTA"
      },
      "outputs": [],
      "source": [
        "# 小文字に変換する\n",
        "name.lower()"
      ]
    },
    {
      "cell_type": "code",
      "execution_count": null,
      "metadata": {
        "id": "fzFfblOyuxK1",
        "colab": {
          "base_uri": "https://localhost:8080/",
          "height": 35
        },
        "outputId": "96ef0fc1-ee7e-4624-86f5-1089eddfad99"
      },
      "outputs": [
        {
          "output_type": "execute_result",
          "data": {
            "text/plain": [
              "'TECHTRAIN'"
            ],
            "application/vnd.google.colaboratory.intrinsic+json": {
              "type": "string"
            }
          },
          "metadata": {},
          "execution_count": 3
        }
      ],
      "source": [
        "# 大文字に変換する\n",
        "name.upper()"
      ]
    },
    {
      "cell_type": "markdown",
      "metadata": {
        "id": "ERX26VBsu3KE"
      },
      "source": [
        "## 文字列メソッド\n",
        "\n",
        "よく使う文字列メソッドのひとつに `format()` があります。これはある文字列の一部分に，あとから別の文字列を埋め込むために使用します。対象の文字列には `{}` であらかじめ値を埋め込みたい部分を指定する必要があります。"
      ]
    },
    {
      "cell_type": "code",
      "execution_count": null,
      "metadata": {
        "id": "3UNcxPi6u0Ae",
        "colab": {
          "base_uri": "https://localhost:8080/",
          "height": 35
        },
        "outputId": "b1679a20-1ba1-4b8b-9a6f-79e8e7a1e2bb"
      },
      "outputs": [
        {
          "output_type": "execute_result",
          "data": {
            "text/plain": [
              "'TechTrain チュートリアルへようこそ'"
            ],
            "application/vnd.google.colaboratory.intrinsic+json": {
              "type": "string"
            }
          },
          "metadata": {},
          "execution_count": 4
        }
      ],
      "source": [
        "name = \"TechTrain\"\n",
        "'{} チュートリアルへようこそ'.format(name)"
      ]
    },
    {
      "cell_type": "markdown",
      "metadata": {
        "id": "YgvZkcXavcuU"
      },
      "source": [
        "またPythonのバージョン3.7以降からは [**フォーマット済み文字列リテラル (f-string)**](https://docs.python.org/ja/3.8/tutorial/inputoutput.html#formatted-string-literals) という記法を使って値を埋め込むこともできるようになりました。文字列の頭に `f` をつけ `{name}` と書くことで使用できます。\n",
        "\n",
        "バージョン3.7というのはPythonの世代のことです。数字がより大きい方が新しいバージョンです。このStationをこなすうえでPythonのバージョンを気にする必要はありませんが，場合によっては使えない機能であることを覚えておきましょう。"
      ]
    },
    {
      "cell_type": "code",
      "execution_count": null,
      "metadata": {
        "id": "972cUTFwvNM2",
        "colab": {
          "base_uri": "https://localhost:8080/",
          "height": 35
        },
        "outputId": "e5a66139-0d7d-4fb3-9e3a-b71dde7a9e89"
      },
      "outputs": [
        {
          "output_type": "execute_result",
          "data": {
            "text/plain": [
              "'TechTrain チュートリアルへようこそ'"
            ],
            "application/vnd.google.colaboratory.intrinsic+json": {
              "type": "string"
            }
          },
          "metadata": {},
          "execution_count": 5
        }
      ],
      "source": [
        "f'{name} チュートリアルへようこそ'"
      ]
    },
    {
      "cell_type": "markdown",
      "metadata": {
        "id": "bZO3ppeWwo2G"
      },
      "source": [
        "## 浮動小数点がもつメソッド\n",
        "\n",
        "メソッドは `str` 型の変数が持つわけではありません。 `int` 型の変数や `float` 型の変数にも，それぞれの特徴に合わせた機能がメソッドとして提供されています。\n",
        "\n",
        "たとえば `float` 型の変数には `as_integer_ratio()` というメソッドがあり，比がその浮動小数点の値となるような整数の組を返します。\n",
        "\n",
        "たとえば 0.5 という数値は，分数で表すと $\\frac{1}{2}$ です。これは以下のように調べられます。"
      ]
    },
    {
      "cell_type": "code",
      "execution_count": null,
      "metadata": {
        "id": "QRhaPBz0wsx2",
        "colab": {
          "base_uri": "https://localhost:8080/"
        },
        "outputId": "a31d3902-4725-4d5a-f24f-474a20bcfa25"
      },
      "outputs": [
        {
          "output_type": "execute_result",
          "data": {
            "text/plain": [
              "(1, 2)"
            ]
          },
          "metadata": {},
          "execution_count": 6
        }
      ],
      "source": [
        "0.5.as_integer_ratio()"
      ]
    },
    {
      "cell_type": "markdown",
      "metadata": {
        "id": "_itOZoMUx48S"
      },
      "source": [
        "0.75 であれば $\\frac{3}{4}$ といった具合です。"
      ]
    },
    {
      "cell_type": "code",
      "execution_count": null,
      "metadata": {
        "id": "py48qFejx24w"
      },
      "outputs": [],
      "source": [
        "0.75.as_integer_ratio()"
      ]
    },
    {
      "cell_type": "markdown",
      "metadata": {
        "id": "2Ilkn2U0yDgo"
      },
      "source": [
        "他にもこのようなメソッドは多数存在しており，すべてを列挙することはできません。興味のある方は [Pythonの公式ドキュメント](https://docs.python.org/ja/3/library/stdtypes.html#numeric-types-int-float-complex) を読んでみると楽しいでしょう。\n",
        "\n",
        "**公式ドキュメント** というのはPython公式の取り扱い説明書のようなものです。家電製品を使う前に取り扱い説明書をすみずみまで読む人が少ないように，Pythonを使う前にすべてに目を通す必要はありません。しかし，なにか不具合が起こったとき，新しい使い方をしたいときなど，場合によって参照するとよいでしょう。"
      ]
    },
    {
      "cell_type": "markdown",
      "metadata": {
        "id": "8Bj8rHH-yxKm"
      },
      "source": [
        "# 複合データ型\n",
        "\n",
        "これまでは `b = 2` のように，ひとつの変数にひとつの値を代入する場合だけを扱ってきました。しかし現実には，複数の値をまとめて取り扱いたい場合もあります。Pythonでは複数の変数や値をまとめて扱うのに便利な，以下のような複合データ型があります。\n",
        "\n",
        "- リスト `list`\n",
        "- タプル `tuple`\n",
        "- 辞書 `dictionary`"
      ]
    },
    {
      "cell_type": "markdown",
      "metadata": {
        "id": "g3TYPDX6zKIn"
      },
      "source": [
        "## リスト\n",
        "\n",
        "複数の変数をカンマ `,` で区切り，その全体を `[]` で囲んだものを **リスト (List)** と呼びます。リストに含まれる値のことを **要素** と呼び，整数の **インデックス (要素番号)** を使って値にアクセスします。リストは非常によく使う型であるため，きちんと覚えておきましょう。\n",
        "\n",
        "他のプログラミング言語では **アレイ (Array)** や **配列** と呼ばれることもあります。"
      ]
    },
    {
      "cell_type": "code",
      "execution_count": null,
      "metadata": {
        "id": "4AAxs7GHyBXM"
      },
      "outputs": [],
      "source": [
        "# リスト型の変数を定義\n",
        "numbers = [2, 3, 4, 5]\n",
        "\n",
        "# 値の確認\n",
        "print(numbers)"
      ]
    },
    {
      "cell_type": "code",
      "execution_count": null,
      "metadata": {
        "id": "a1yrtUgVzuri"
      },
      "outputs": [],
      "source": [
        "# 型の確認\n",
        "type(numbers)"
      ]
    },
    {
      "cell_type": "markdown",
      "metadata": {
        "id": "pIJ_nBsEz54N"
      },
      "source": [
        "`numbers` には4つの数値が入っていて **要素数** は4です。リストの要素数はリストの **長さ (Length)** とも呼ばれ，組み込み関数の `len()` を使って取得できます。 `len()` は非常によく使う関数であるため，ここで覚えておきましょう。"
      ]
    },
    {
      "cell_type": "code",
      "execution_count": null,
      "metadata": {
        "id": "VBbheyhK2mFg"
      },
      "outputs": [],
      "source": [
        "# 要素数の確認\n",
        "len(numbers)"
      ]
    },
    {
      "cell_type": "markdown",
      "metadata": {
        "id": "xAZSecwQ2uZi"
      },
      "source": [
        "### インデックス\n",
        "\n",
        "リストの各要素へアクセスする方法はいくつもあります。もっとも簡単な方法は `[]` を使ってアクセスしたい要素のインデックスを指定することです。これによりリストから値を取り出したり，その位置の値を書き換えたりできます。\n",
        "\n",
        "ここで **Pythonでは先頭の要素のインデックス番号が `0`** であることに注意しましょう。2番目の要素の番号は `2` ではなく `1` です。"
      ]
    },
    {
      "cell_type": "code",
      "execution_count": null,
      "metadata": {
        "id": "Jq3EWp446ABs"
      },
      "outputs": [],
      "source": [
        "# 先頭の要素にアクセス\n",
        "numbers[0]"
      ]
    },
    {
      "cell_type": "code",
      "execution_count": null,
      "metadata": {
        "id": "MX_nEkF76E_7"
      },
      "outputs": [],
      "source": [
        "# 先頭から4番目の要素にアクセス\n",
        "numbers[3]"
      ]
    },
    {
      "cell_type": "code",
      "execution_count": null,
      "metadata": {
        "id": "AEkcnq-66JCi"
      },
      "outputs": [],
      "source": [
        "# 2番目の要素を書き換え\n",
        "numbers[1] = 100"
      ]
    },
    {
      "cell_type": "code",
      "execution_count": null,
      "metadata": {
        "id": "MvYKAvu26O5j"
      },
      "outputs": [],
      "source": [
        "# 値の確認\n",
        "numbers"
      ]
    },
    {
      "cell_type": "markdown",
      "metadata": {
        "id": "CPfjEALq6SMO"
      },
      "source": [
        "また，インデックスに負の値を指定すると，末尾からの位置になります。インデックス `-1` で最後の要素を参照できます。"
      ]
    },
    {
      "cell_type": "code",
      "execution_count": null,
      "metadata": {
        "id": "JVeNKSj76Z5O"
      },
      "outputs": [],
      "source": [
        "# 末尾の要素にアクセス\n",
        "numbers[-1]"
      ]
    },
    {
      "cell_type": "code",
      "execution_count": null,
      "metadata": {
        "id": "N-ALr-5L6dNu"
      },
      "outputs": [],
      "source": [
        "# 末尾から3番目の要素にアクセス\n",
        "numbers[-3]"
      ]
    },
    {
      "cell_type": "markdown",
      "metadata": {
        "id": "EvafDsbmcgdG"
      },
      "source": [
        "存在しないインデックスを参照しようとするとエラーになります。"
      ]
    },
    {
      "cell_type": "code",
      "execution_count": null,
      "metadata": {
        "id": "975mMpPdcj2z"
      },
      "outputs": [],
      "source": [
        "# 存在しないキーを参照する\n",
        "numbers[20]"
      ]
    },
    {
      "cell_type": "markdown",
      "metadata": {
        "id": "229WEQ_-8PbZ"
      },
      "source": [
        "### スライス\n",
        "\n",
        "次に，リストから一度に複数の要素を取り出す操作である **スライス (Slice)** を紹介します。 `開始位置:終了位置` のようにコロン `:` を用いてインデックスを範囲指定して，複数の部分要素にアクセスします。このスライスの処理も多用するため，よく覚えておきましょう。\n",
        "\n",
        "たとえば，先頭から2つの要素を取り出したい場合は，このように指定します。"
      ]
    },
    {
      "cell_type": "code",
      "execution_count": null,
      "metadata": {
        "id": "WLbg4GYe8ELT"
      },
      "outputs": [],
      "source": [
        "numbers[0:2]"
      ]
    },
    {
      "cell_type": "markdown",
      "metadata": {
        "id": "WDwENXpWPr0G"
      },
      "source": [
        "`開始位置:終了位置` と指定することで，開始位置から **終了位置のひとつ手前** までの要素を抽出します。終了位置に指定したインデックスの値は含まれないことに注意しましょう。\n",
        "\n",
        "また，指定する開始インデックスが `0` の場合，こうして省略することもできます。"
      ]
    },
    {
      "cell_type": "code",
      "execution_count": null,
      "metadata": {
        "id": "1-u1Zj_MPpLp"
      },
      "outputs": [],
      "source": [
        "numbers[:2]"
      ]
    },
    {
      "cell_type": "markdown",
      "metadata": {
        "id": "Xx4ujL_WQBwB"
      },
      "source": [
        "このような記法を使う場合は，終了位置を示すインデックスを **取り出したい要素の個数** ととらえて **先頭から2つ取り出す** 操作と考えるとわかりやすくなります。\n",
        "\n",
        "同じように，ある位置からリストの末尾までを取り出す場合も，終了位置のインデックスを省略できます。"
      ]
    },
    {
      "cell_type": "code",
      "execution_count": null,
      "metadata": {
        "id": "A7368vFyP9fo"
      },
      "outputs": [],
      "source": [
        "numbers[2:]"
      ]
    },
    {
      "cell_type": "markdown",
      "metadata": {
        "id": "3ulpCqOiQUJX"
      },
      "source": [
        "この場合は，取り出される要素の個数は `len(numbers) - 1` 個になることに気づいたでしょうか。\n",
        "\n",
        "以上より `numbers[2:]` と `numbers[:2]` は，ちょうど2つ目の要素を境界に `numbers` の要素を2分割した前半部分と後半部分になっています。ここで **インデックスが2の要素自体は後半部分に含まれる** ことに注意が必要です。少しややこしくなってきましたがいったん「こういうものだ」と読み飛ばしても大丈夫です。\n",
        "\n",
        "また，開始位置も終了位置も省略した場合は，すべての要素が選択されます。"
      ]
    },
    {
      "cell_type": "code",
      "execution_count": null,
      "metadata": {
        "id": "HlfvSL9CQSk-"
      },
      "outputs": [],
      "source": [
        "numbers[:]"
      ]
    },
    {
      "cell_type": "markdown",
      "metadata": {
        "id": "YsOWoOg5RYLF"
      },
      "source": [
        "現状では `numbers[:]` と `numbers` の結果は同じです。そのためこれをどう使うのか疑問に感じる方もいることでしょう。しかしこれ以降の章では [NumPy](https://numpy.org/) というライブラリを用いて，リストの中にリストが入ったような **多次元配列 (Multidimentional Array)** を扱うこともあります。多次元配列を用いて **行列 (Matrix)** を表す場合には `0番目のすべての値` を抽出するために `[:, 0]` のような記法を用いる場合もあります。\n",
        "\n",
        "これはPython標準の機能ではありませんが，Pythonの記法を拡張したものになっています。\n",
        "\n",
        "### 複数の型が混在したリスト\n",
        "\n",
        "リストは数値以外にも，ほぼすべての型を扱うことができます。また複数の型を同一のリスト内に混在させることもできます。"
      ]
    },
    {
      "cell_type": "code",
      "execution_count": null,
      "metadata": {
        "id": "9XwYnkCHRVCt"
      },
      "outputs": [],
      "source": [
        "# 文字列を格納したリスト\n",
        "array = ['Happy', 'Party']\n",
        "array"
      ]
    },
    {
      "cell_type": "code",
      "execution_count": null,
      "metadata": {
        "id": "ocJrq7cbTnDs"
      },
      "outputs": [],
      "source": [
        "# 複数の型が混在したリスト\n",
        "array = [0, 3.14, 'Circle']\n",
        "array"
      ]
    },
    {
      "cell_type": "markdown",
      "metadata": {
        "id": "-MQ-VYePTydu"
      },
      "source": [
        "リストにリストを代入することもできます。またPython標準のリストでは，リストの中のリスト (入れ子と呼びます) の要素数がバラバラでも問題ありません。"
      ]
    },
    {
      "cell_type": "code",
      "execution_count": null,
      "metadata": {
        "id": "buJ6GUiPTs41"
      },
      "outputs": [],
      "source": [
        "# 入れ子のリスト\n",
        "array = [['Happy', 'Party'], [0, 3.14, 'Circle']]\n",
        "array"
      ]
    },
    {
      "cell_type": "markdown",
      "metadata": {
        "id": "ksn9xbhSUNoB"
      },
      "source": [
        "### リストへの値の追加\n",
        "\n",
        "リストを使う際に頻出の操作として **リストへの値の追加** があります。リスト型には `append()` というメソッドがあり，これを用いてリストの末尾に新たな値を追加できます。\n",
        "\n",
        "上記の `array` に値を追加してみましょう。"
      ]
    },
    {
      "cell_type": "code",
      "execution_count": null,
      "metadata": {
        "id": "x14rJO_vUeRx"
      },
      "outputs": [],
      "source": [
        "# リスト末尾への値の追加\n",
        "array.append(2.718)"
      ]
    },
    {
      "cell_type": "code",
      "execution_count": null,
      "metadata": {
        "id": "3KmOCZmBUjSR"
      },
      "outputs": [],
      "source": [
        "# 値の確認\n",
        "array"
      ]
    },
    {
      "cell_type": "markdown",
      "metadata": {
        "id": "P-g9tziPUp5r"
      },
      "source": [
        "また，非常によく使う処理として **空のリストを定義** して，そこに途中の処理でどんどん新たな要素を追加していくやり方があります。"
      ]
    },
    {
      "cell_type": "code",
      "execution_count": null,
      "metadata": {
        "id": "2-n_AS0kU-jV"
      },
      "outputs": [],
      "source": [
        "# 空のリストを定義\n",
        "array = []\n",
        "\n",
        "# 要素を追加\n",
        "array.append(\"Tech\")\n",
        "array.append(\"Train\")\n",
        "\n",
        "array"
      ]
    },
    {
      "cell_type": "markdown",
      "metadata": {
        "id": "8WDG7DlZVQKM"
      },
      "source": [
        "## タプル\n",
        "\n",
        "**タプル (tuple)** はリストと同様に複数の要素をまとめた型です。しかしリストと異なり **定義したあとに中の要素を変更できない** 性質を持ちます。\n",
        "\n",
        "タプルの定義には `()` を用います。リストほどよく出てくるわけではないですが通常のカッコと同様のため，少し注意しましょう。"
      ]
    },
    {
      "cell_type": "code",
      "execution_count": null,
      "metadata": {
        "id": "3YWUGR7xVodz"
      },
      "outputs": [],
      "source": [
        "# タプルの定義\n",
        "tup = (5, 6, 7, 8, 9)\n",
        "tup"
      ]
    },
    {
      "cell_type": "code",
      "execution_count": null,
      "metadata": {
        "id": "gdp2zUZjVvaL"
      },
      "outputs": [],
      "source": [
        "# 型の確認\n",
        "type(tup)"
      ]
    },
    {
      "cell_type": "markdown",
      "metadata": {
        "id": "nQ3N2NkjV0tT"
      },
      "source": [
        "タプルを定義する際には `()` を使いましたが，タプルの要素へのアクセスは `[]` を使います。インデックスの仕様に関してはリストと同様です。"
      ]
    },
    {
      "cell_type": "code",
      "execution_count": null,
      "metadata": {
        "id": "qrYGqtDFWCZ4"
      },
      "outputs": [],
      "source": [
        "# 先頭の要素へアクセス\n",
        "tup[0]"
      ]
    },
    {
      "cell_type": "code",
      "execution_count": null,
      "metadata": {
        "id": "XrR40yl4Vx1q"
      },
      "outputs": [],
      "source": [
        "# リストと同様にスライスも使用可能\n",
        "tup[2:]"
      ]
    },
    {
      "cell_type": "markdown",
      "metadata": {
        "id": "5JOgzGh7WMOi"
      },
      "source": [
        "先にも書いたとおり，タプルは各要素の値を変更できません。この性質は定数や設定値など，プログラムの途中で値が書き換わってほしくないものを扱うのに便利です。\n",
        "\n",
        "タプルを書き換えようとするとエラーが発生することを確認しましょう。"
      ]
    },
    {
      "cell_type": "code",
      "execution_count": null,
      "metadata": {
        "id": "X4DcbsXyWKFS"
      },
      "outputs": [],
      "source": [
        "tup[2] = 3"
      ]
    },
    {
      "cell_type": "markdown",
      "metadata": {
        "id": "lRYRVP2DWkeZ"
      },
      "source": [
        "> 'tuple' object does not support item assignment\n",
        "\n",
        "とは「\"タプル\" は値の代入をサポートしていません」という意味です。\n",
        "\n",
        "`tuple` のように中身が変更できない性質のことを **イミュータブル (Immutable)** と呼び，反対に `list` のように中身が変更できる性質のことを **ミュータブル (Mutable)** であるといいます。"
      ]
    },
    {
      "cell_type": "markdown",
      "metadata": {
        "id": "khALbtKDW8mM"
      },
      "source": [
        "## 辞書\n",
        "\n",
        "リストやタプルでは，複数の値をまとめて扱いました。そこで，定期テストの結果を科目ごとにまとめることを考えます。\n",
        "\n",
        "たとえば，数学90点，国語80点，英語75点というテスト結果を `scores = [90, 80, 75]` と表すことを考えます。しかしこれでは **何番目がどの教科の点数に対応するか** 少しわかりにくいですよね。\n",
        "\n",
        "これに対してPythonの `dict` 型は **キー (key)** と対応する **値 (value)** を対にして格納します。こういった「どの値がなにを格納しているのか」示すときに便利です。\n",
        "\n",
        "リストやタプルでは，各要素にアクセスするときには整数のインデックスを用いていました。それに対して辞書ではキーでインデックス化されているため，整数や文字列など，ほぼすべての型を使って要素を指定することができます。\n",
        "\n",
        "辞書は `{}` を使って定義し，要素にアクセスする際には，リストやタプルと同様に `[ ]` を使用し `[key]` のようにキーを指定して対応する値を取り出します。"
      ]
    },
    {
      "cell_type": "code",
      "execution_count": null,
      "metadata": {
        "id": "5oIjSvE1WfVo"
      },
      "outputs": [],
      "source": [
        "# 辞書を定義\n",
        "scores = {'Math': 90, 'Japanese': 80, 'English': 75 }\n",
        "scores"
      ]
    },
    {
      "cell_type": "code",
      "execution_count": null,
      "metadata": {
        "id": "UKAFYVyoj_mO"
      },
      "outputs": [],
      "source": [
        "# Key が 'Math' の value にアクセス\n",
        "scores['Math']"
      ]
    },
    {
      "cell_type": "code",
      "execution_count": null,
      "metadata": {
        "id": "ZNzqnl-ikGdW"
      },
      "outputs": [],
      "source": [
        "# Key に日本語も使用できる\n",
        "scores = {'数学': 90, '国語': 80, '英語': 75 }\n",
        "scores"
      ]
    },
    {
      "cell_type": "code",
      "execution_count": null,
      "metadata": {
        "id": "39hsQRI9kP1d"
      },
      "outputs": [],
      "source": [
        "scores['数学']"
      ]
    },
    {
      "cell_type": "markdown",
      "metadata": {
        "id": "Zf9WdxDRkXTU"
      },
      "source": [
        "他の人が定義した辞書に **どのようなキーが存在するのか** を調べたいときがあります。辞書にはそのような場合に使える便利なメソッドがあります。\n",
        "\n",
        "- `keys()` : キーのリストを返す。 `dict_keys` というリストに似た型が返る。\n",
        "- `values()` : 値のリストを返す。 `dict_values` というリストに似た型が返る\n",
        "- `items()` : 各要素の `(key, value)` のタプルが並んだリストが返る。`dict_items` というリストに似た型が返る"
      ]
    },
    {
      "cell_type": "code",
      "execution_count": null,
      "metadata": {
        "id": "XGhNZYXjkTY2"
      },
      "outputs": [],
      "source": [
        "# key のリスト\n",
        "scores.keys()"
      ]
    },
    {
      "cell_type": "code",
      "execution_count": null,
      "metadata": {
        "id": "N_UUa_X6k-Ui"
      },
      "outputs": [],
      "source": [
        "# 値のリスト\n",
        "scores.values()"
      ]
    },
    {
      "cell_type": "code",
      "execution_count": null,
      "metadata": {
        "id": "SjvNPTvblAMK"
      },
      "outputs": [],
      "source": [
        "# (key, value) のタプルを要素とするリスト\n",
        "scores.items()"
      ]
    },
    {
      "cell_type": "markdown",
      "metadata": {
        "id": "l6HSXWs7msek"
      },
      "source": [
        "`dict_keys` , `dict_values` , `dict_items` と新しい型が登場しました。これは辞書特有の型であり，厳密にはPython標準のリストとは異なります。しかしここではリストと似た性質の型であるといった程度の理解で問題ありません。\n",
        "\n",
        "辞書に要素を追加する場合は，新しいキーを指定して値を代入します。"
      ]
    },
    {
      "cell_type": "code",
      "execution_count": null,
      "metadata": {
        "id": "DPjGD7fjlEf_"
      },
      "outputs": [],
      "source": [
        "scores = {'Math': 90, 'Japanese': 80, 'English': 75 }\n",
        "scores['Science'] = 95"
      ]
    },
    {
      "cell_type": "code",
      "execution_count": null,
      "metadata": {
        "id": "3hAOxYAQnHeh"
      },
      "outputs": [],
      "source": [
        "scores"
      ]
    },
    {
      "cell_type": "markdown",
      "metadata": {
        "id": "p3ckqeYSnSRL"
      },
      "source": [
        "すでに存在するキーを指定した場合には，値が上書きされます。"
      ]
    },
    {
      "cell_type": "code",
      "execution_count": null,
      "metadata": {
        "id": "t5S_f8DTnKqd"
      },
      "outputs": [],
      "source": [
        "scores['Math'] = 85"
      ]
    },
    {
      "cell_type": "code",
      "execution_count": null,
      "metadata": {
        "id": "TcN2HVLanPtY"
      },
      "outputs": [],
      "source": [
        "scores"
      ]
    },
    {
      "cell_type": "markdown",
      "metadata": {
        "id": "34J1MgL1nzKe"
      },
      "source": [
        "# 確認テスト\n",
        "\n",
        "# Station2\n",
        "\n",
        "- `a = [1, 9, 8, 4, 2]` というリストに対して以下の操作を行うコードを書いてください。Stationで説明していないメソッドを使うかもしれません。[リスト型についてもう少し](https://docs.python.org/ja/3/tutorial/datastructures.html#more-on-lists) がいいヒントになります。\n",
        "  \n",
        "  (1) リスト a の長さを返してください。\n",
        "\n",
        "  (2) リスト a の先頭の要素を取り除いて `[9, 8, 4, 2]`  としてください。スライスを使用してください。\n",
        "\n",
        "  (3) リスト a の末尾の要素を取り除いて `[1, 9, 8, 4]` としてください。pop()を使用してください。\n",
        "\n",
        "  (4) リスト a の末尾に 100 という値を追加して、`[1, 9, 8, 4, 2, 100]` としてください。\n",
        "\n",
        "- `result = {\"Math\": 90, \"English\": 80, \"Science\": 85}` という辞書に対して以下の操作を行うコードを書いてください。\n",
        "\n",
        "  (5) 数学 (Math) の点数を80点に変更してください。\n",
        "  \n",
        "  (6) 国語 (Japanese) の点数は75点でした。追加してください。\n",
        "  \n",
        "  (7) 科目名だけを取り出してください。\n",
        "  \n",
        "  (8) 点数だけを取り出してください。\n"
      ]
    },
    {
      "cell_type": "code",
      "execution_count": null,
      "metadata": {
        "id": "HC64vFbSd9cu",
        "colab": {
          "base_uri": "https://localhost:8080/"
        },
        "outputId": "ffea4259-6afb-45db-9f46-09d487c1d4ba"
      },
      "outputs": [
        {
          "output_type": "execute_result",
          "data": {
            "text/plain": [
              "5"
            ]
          },
          "metadata": {},
          "execution_count": 7
        }
      ],
      "source": [
        "a = [1, 9, 8, 4, 2]\n",
        "\n",
        "# (1) リスト a の長さを返してください。\n",
        "len(a)"
      ]
    },
    {
      "cell_type": "code",
      "source": [
        "a = [1, 9, 8, 4, 2]\n",
        "\n",
        "# (2) リスト a の先頭の要素を取り除いて [9, 8, 4, 2] としてください。\n",
        "a[1:5]"
      ],
      "metadata": {
        "id": "uJOCMlFVu7kR",
        "colab": {
          "base_uri": "https://localhost:8080/"
        },
        "outputId": "817f39dd-3b50-416b-8baf-eb12fb81eccc"
      },
      "execution_count": null,
      "outputs": [
        {
          "output_type": "execute_result",
          "data": {
            "text/plain": [
              "[9, 8, 4, 2]"
            ]
          },
          "metadata": {},
          "execution_count": 8
        }
      ]
    },
    {
      "cell_type": "code",
      "source": [
        "a = [1, 9, 8, 4, 2]\n",
        "\n",
        "# (3) リスト a の末尾の要素を取り除いて [1, 9, 8, 4] としてください。\n",
        "a[0:4]"
      ],
      "metadata": {
        "id": "D_fxsuOKu7e2",
        "colab": {
          "base_uri": "https://localhost:8080/"
        },
        "outputId": "d0bfeb94-3598-4bdd-9930-4b3e55cac766"
      },
      "execution_count": null,
      "outputs": [
        {
          "output_type": "execute_result",
          "data": {
            "text/plain": [
              "[1, 9, 8, 4]"
            ]
          },
          "metadata": {},
          "execution_count": 9
        }
      ]
    },
    {
      "cell_type": "code",
      "source": [
        "a = [1, 9, 8, 4, 2]\n",
        "\n",
        "# (4) リスト a の末尾に 100 という値を追加して、[1, 9, 8, 4, 2, 100] としてください。\n",
        "a.append(100)\n",
        "print(a)"
      ],
      "metadata": {
        "id": "k1S_WvqMu7WQ",
        "colab": {
          "base_uri": "https://localhost:8080/"
        },
        "outputId": "2dfa3c1e-b463-41e9-850b-c0658c76a8aa"
      },
      "execution_count": null,
      "outputs": [
        {
          "output_type": "stream",
          "name": "stdout",
          "text": [
            "[1, 9, 8, 4, 2, 100]\n"
          ]
        }
      ]
    },
    {
      "cell_type": "code",
      "execution_count": null,
      "metadata": {
        "id": "0_L3sZr4ejhN",
        "colab": {
          "base_uri": "https://localhost:8080/"
        },
        "outputId": "f8d06519-18cd-4c83-dfe6-48f84eb0a6bb"
      },
      "outputs": [
        {
          "output_type": "stream",
          "name": "stdout",
          "text": [
            "{'Math': 80, 'English': 80, 'Science': 85}\n"
          ]
        }
      ],
      "source": [
        "result = {\"Math\": 90, \"English\": 80, \"Science\": 85}\n",
        "\n",
        "# (5) 数学 (Math) の点数を80点に変更してください。\n",
        "result[\"Math\"]=80\n",
        "print(result)"
      ]
    },
    {
      "cell_type": "code",
      "source": [
        "result = {\"Math\": 90, \"English\": 80, \"Science\": 85}\n",
        "\n",
        "# (6) 国語 (Japanese) の点数は75点でした。追加してください。\n",
        "result[\"Japanese\"]=75\n",
        "print(result)"
      ],
      "metadata": {
        "id": "yTk5PNzuvVvo",
        "colab": {
          "base_uri": "https://localhost:8080/"
        },
        "outputId": "117c685b-6e83-4502-f55c-cf27e4d055c8"
      },
      "execution_count": null,
      "outputs": [
        {
          "output_type": "stream",
          "name": "stdout",
          "text": [
            "{'Math': 90, 'English': 80, 'Science': 85, 'Japanese': 75}\n"
          ]
        }
      ]
    },
    {
      "cell_type": "code",
      "source": [
        "result = {\"Math\": 90, \"English\": 80, \"Science\": 85}\n",
        "\n",
        "# (7) 科目名だけを取り出してください。\n",
        "result.keys()"
      ],
      "metadata": {
        "id": "RDc6V005vVoT",
        "colab": {
          "base_uri": "https://localhost:8080/"
        },
        "outputId": "d10bcc63-3c7d-43b7-afbb-6f15cf82a695"
      },
      "execution_count": null,
      "outputs": [
        {
          "output_type": "execute_result",
          "data": {
            "text/plain": [
              "dict_keys(['Math', 'English', 'Science'])"
            ]
          },
          "metadata": {},
          "execution_count": 23
        }
      ]
    },
    {
      "cell_type": "code",
      "source": [
        "result = {\"Math\": 90, \"English\": 80, \"Science\": 85}\n",
        "\n",
        "# (8) 点数だけを取り出してください。\n",
        "result.values()"
      ],
      "metadata": {
        "id": "TAhjRaU0vVaY",
        "colab": {
          "base_uri": "https://localhost:8080/"
        },
        "outputId": "00a81441-b4be-4fa5-c3d0-4f11e1ded55e"
      },
      "execution_count": null,
      "outputs": [
        {
          "output_type": "execute_result",
          "data": {
            "text/plain": [
              "dict_values([90, 80, 85])"
            ]
          },
          "metadata": {},
          "execution_count": 24
        }
      ]
    },
    {
      "cell_type": "code",
      "source": [],
      "metadata": {
        "id": "DNG_a4gUWJg6"
      },
      "execution_count": null,
      "outputs": []
    }
  ],
  "metadata": {
    "colab": {
      "provenance": []
    },
    "kernelspec": {
      "display_name": "Python 3",
      "name": "python3"
    },
    "language_info": {
      "name": "python"
    }
  },
  "nbformat": 4,
  "nbformat_minor": 0
}