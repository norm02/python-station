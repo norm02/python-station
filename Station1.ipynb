{
  "cells": [
    {
      "cell_type": "markdown",
      "metadata": {
        "id": "view-in-github",
        "colab_type": "text"
      },
      "source": [
        "<a href=\"https://colab.research.google.com/github/norm02/python-station/blob/main/Station1.ipynb\" target=\"_parent\"><img src=\"https://colab.research.google.com/assets/colab-badge.svg\" alt=\"Open In Colab\"/></a>"
      ]
    },
    {
      "cell_type": "markdown",
      "metadata": {
        "id": "rtc2stdhtRXP"
      },
      "source": [
        "| Version | Published Date| Details | \n",
        "| -- | -- | -- |\n",
        "| ver.1.0.0 | 2023/3/29 | 初版リリース |"
      ]
    },
    {
      "cell_type": "markdown",
      "metadata": {
        "id": "SJs933p47JDP"
      },
      "source": [
        "# Pythonに慣れよう\n",
        "\n",
        "こんにちは。このStationでは，プログラミング言語のPythonについて学びます。データ分析を学ぶのに，なぜPythonを学ぶのでしょうか？そう不思議に思った方もいることでしょう。\n",
        "\n",
        "Python以外にも，プログラミング言語にはC言語やJava, Ruby, Rというように，さまざまなものがあります。それぞれの言語にも得意なことや不得意なことがあり，私たちエンジニアは用途に応じてプログラミング言語を使い分けています。\n",
        "\n",
        "このStationでは，基本的に Python を扱います。なぜかというと，Pythonはデータ分析・機械学習のためのライブラリが充実しており，最もよく使われるプログラミング言語だからです。\n",
        "\n",
        "さらに，Pythonは初心者にとっても学びやすい言語です。初心者がプログラミング言語を学ぶときにむずかしく感じる概念が少なく，入門しやすい言語といえます。\n",
        "\n",
        "データ分析を理解するためには，基礎的なプログラミングの理解は欠かせません。むずかしい概念ではないため，一緒に学んでいきましょう。\n",
        "\n",
        "## まとめ\n",
        "\n",
        "- このStationではPythonについて学ぶ\n",
        "- Pythonはデータ分析や機械学習に適した言語\n",
        "- 初心者がはじめやすい\n",
        "- データ分析を学ぶのにプログラミングを理解が必要"
      ]
    },
    {
      "cell_type": "markdown",
      "metadata": {
        "id": "p2SsSvpP9wv_"
      },
      "source": [
        "# Google Corabolatory\n",
        "\n",
        "またこのStationではColab( [Google Colaboratory](https://colab.research.google.com/?hl=ja) ) を使って学習を進めていきます。Colab を使うと，ウェブブラウザ上でPythonを記述し実行することができます。\n",
        "\n",
        "このひとつ下の `print(42)` と書かれた部分を見てみましょう。これはPythonに数字の「42」を表示させるためのスクリプトです。こういったコードが書かれた箱のことを **セル (cell)** と呼びます。"
      ]
    },
    {
      "cell_type": "code",
      "execution_count": null,
      "metadata": {
        "id": "m5Te9jngJWMc",
        "colab": {
          "base_uri": "https://localhost:8080/"
        },
        "outputId": "3a5b1a4a-f103-45ca-9aba-a2cfdac90f18"
      },
      "outputs": [
        {
          "output_type": "stream",
          "name": "stdout",
          "text": [
            "42\n"
          ]
        }
      ],
      "source": [
        "print(42)"
      ]
    },
    {
      "cell_type": "markdown",
      "metadata": {
        "id": "8C_D4NKq_Q1a"
      },
      "source": [
        "上記のセルのスクリプトを実行するには，セルをクリックして選択し，左側にある実行ボタンをクリックするか，キーボード ショートカット `Ctrl + Enter` (Macの場合は `Command + return`を使います。コードはセルをクリックしてそのまま編集できます。\n",
        "\n",
        "数字の「42」が表示されたでしょうか？\n",
        "\n",
        "注意点として **セルはなるべく上からすべて実行する** ようにしましょう。セルは書かれているだけではあまり意味がなく，実行してはじめてプログラムとして動きます。"
      ]
    },
    {
      "cell_type": "markdown",
      "metadata": {
        "id": "gBERWVDc_uVK"
      },
      "source": [
        "# 文法\n",
        "\n",
        "プログラミングによってある処理をコンピュータにやらせたい場合 **文法** と **アルゴリズム** の2つを理解する必要があります。\n",
        "\n",
        "ここではまずコンピュータに命令を伝えるためのルールである **文法** を覚えましょう。文法を無視した記述があるプログラムは，実行した際にエラーが発生し処理が停止します。そのため文法はしっかりと理解しましょう。\n",
        "\n",
        "**アルゴリズム** については次章移行で扱います。\n",
        "\n",
        "## まとめ\n",
        "\n",
        "- プログラミングには **文法** と **アルゴリズム** の理解が必要\n",
        "- 文法を無視するとエラーが発生する"
      ]
    },
    {
      "cell_type": "markdown",
      "metadata": {
        "id": "YHjnDg5nD_t-"
      },
      "source": [
        "## 変数\n",
        "\n",
        "**変数 (Variable)** は，色々なものを格納できる **名前のついた入れ物** のことです。この変数に値を格納したり更新したりし，計算結果を一時的に保持できます。\n",
        "\n",
        "### 代入と値の確認\n",
        "\n",
        "以下のコードでは `a` という名前の変数に `1` を **代入** します。"
      ]
    },
    {
      "cell_type": "code",
      "execution_count": null,
      "metadata": {
        "id": "rXLT-buj_ShQ"
      },
      "outputs": [],
      "source": [
        "a = 1"
      ]
    },
    {
      "cell_type": "markdown",
      "metadata": {
        "id": "AQ54DTdSEN6j"
      },
      "source": [
        "代入は `=` の記号を使います。数学では `=` は「等しい」という意味を持ちます。しかしPythonでは **「左辺の変数に，右辺の値を代入する」** という意味になります。\n",
        "\n",
        "Colab上では，変数名だけ，または変数名を最後の行に記述したセルを実行すると，値を確認することができます。"
      ]
    },
    {
      "cell_type": "code",
      "execution_count": null,
      "metadata": {
        "colab": {
          "base_uri": "https://localhost:8080/"
        },
        "id": "lGUsNQ9DELaz",
        "outputId": "3ce7161a-c0ca-4140-b7dd-9140fa214612"
      },
      "outputs": [
        {
          "output_type": "execute_result",
          "data": {
            "text/plain": [
              "1"
            ]
          },
          "metadata": {},
          "execution_count": 3
        }
      ],
      "source": [
        "a"
      ]
    },
    {
      "cell_type": "markdown",
      "metadata": {
        "id": "x2110A3PFBK2"
      },
      "source": [
        "上のセルを実行してみましょう。`1` が表示されましたか？ `a` という入れ物に `1` を代入したため，こうして値を確認できました。\n",
        "\n",
        "## 関数\n",
        "\n",
        "これ以外にも，値を確認するための方法として `print` と呼ばれる **関数 (Function)** を使う歩法もあります。関数については後でより詳しく学びます。\n",
        "\n",
        "`print()` のように Python にはあらかじめ多くの関数が定義されています。こういった関数を **組み込み関数(Built-in Function)** と呼びます。"
      ]
    },
    {
      "cell_type": "code",
      "execution_count": null,
      "metadata": {
        "id": "CBBUO3H8E43e",
        "colab": {
          "base_uri": "https://localhost:8080/"
        },
        "outputId": "2024fdfa-42d9-40f2-b072-d7773b9f0541"
      },
      "outputs": [
        {
          "output_type": "stream",
          "name": "stdout",
          "text": [
            "1\n"
          ]
        }
      ],
      "source": [
        "print(a)"
      ]
    },
    {
      "cell_type": "markdown",
      "metadata": {
        "id": "QvyNYY6gGACl"
      },
      "source": [
        "変数名は `a` や `b` といった名前を自由につけられます。しかし，わかりやすい名前をつけることがとても大事です。たとえば，人の年齢を格納する変数が `a` という名前だと，どんな使われ方をするかわかりません。しかし `age` という名前であれば，ひと目でなんのための変数かわかります。これはじぶんのコードを読む人にとって，大きな手がかりとなります。"
      ]
    },
    {
      "cell_type": "markdown",
      "metadata": {
        "id": "fFCel6oQ2Ses"
      },
      "source": [
        "## コメント\n",
        "\n",
        "Pythonでは `#` のあとからその行の終わりまでに書かれたすべての文字列は無視されます。 `#` のあとに書かれた部分を **コメント (comment)** と呼び，すでに書かれたコードをコメントにすることを **コメントアウト (comment out)** と呼びます。コメントは，コードの中の変数や処理の意味をコードを読む人に伝えるために使われます。\n",
        "\n",
        "Google Colaboratory のセルに書かれたコードを行ごとコメントアウトしたい場合は，行を選択して `Ctrl + /` (Macの場合は `Command + /` ) を入力すると自動的に行をコメントアウトできます。複数行を選択していれば，同時に複数行がコメントアウトされます。またコメントアウトされている行を選択して同じキーを入力すると，コメントアウトを解除できます。"
      ]
    },
    {
      "cell_type": "code",
      "execution_count": null,
      "metadata": {
        "id": "KtSDYNc_GiLE"
      },
      "outputs": [],
      "source": [
        "# この行に書かれたことはコメントアウトされているため無視されます\n",
        "# print(12)"
      ]
    },
    {
      "cell_type": "markdown",
      "metadata": {
        "id": "nu4lqA2t3k73"
      },
      "source": [
        "上のセルを実行しましょう。コメントアウトされているのでなにも実行されませんね。これからの教材では問題の指示をコメントアウトに書く場合が多いのでよく覚えておいてください。"
      ]
    },
    {
      "cell_type": "markdown",
      "metadata": {
        "id": "V6iQJ-Fq744m"
      },
      "source": [
        "## 変数の型\n",
        "\n",
        "プログラミングで扱う値には種類があります。Pythonでは **整数 (Integer)** ， **浮動小数点 (Floating-point Number)**，**文字列 (String)** などが代表的な値の種類です。それぞれコンピュータ内での扱われ方が異なり，この種類のことは一般に **型 (Type)** と呼びます。"
      ]
    },
    {
      "cell_type": "code",
      "execution_count": null,
      "metadata": {
        "id": "7GyzV3ui7lmD"
      },
      "outputs": [],
      "source": [
        "a = 2 # これは整数\n",
        "b = 3.4 # これは実数\n",
        "c = \"TechTrain\" # これは文字列"
      ]
    },
    {
      "cell_type": "markdown",
      "metadata": {
        "id": "jjIjKaBG-QiO"
      },
      "source": [
        "コンピュータの中での扱われ方は異なりますが，Pythonは **変数の型を自動的に決定する** ため，しばらくはあまり気にする必要はありません。しかし，違う型同士の演算は場合によってはエラーが発生するため，簡単に型の特徴を把握しておきましょう。\n",
        "\n",
        "上記の `a` , `b` , `c` の型を確認するには，組み込み関数の `type()` を使います。"
      ]
    },
    {
      "cell_type": "code",
      "execution_count": null,
      "metadata": {
        "id": "LBk3YfvL-h6A",
        "colab": {
          "base_uri": "https://localhost:8080/"
        },
        "outputId": "44525760-ca8c-4401-eef0-ca62330eccc0"
      },
      "outputs": [
        {
          "output_type": "execute_result",
          "data": {
            "text/plain": [
              "int"
            ]
          },
          "metadata": {},
          "execution_count": 7
        }
      ],
      "source": [
        "type(a)"
      ]
    },
    {
      "cell_type": "code",
      "execution_count": null,
      "metadata": {
        "id": "8MUGDAnd-j05",
        "colab": {
          "base_uri": "https://localhost:8080/"
        },
        "outputId": "ba5b852e-5459-4641-90ac-192b39f830a1"
      },
      "outputs": [
        {
          "output_type": "execute_result",
          "data": {
            "text/plain": [
              "float"
            ]
          },
          "metadata": {},
          "execution_count": 8
        }
      ],
      "source": [
        "type(b)"
      ]
    },
    {
      "cell_type": "code",
      "execution_count": null,
      "metadata": {
        "id": "g3u6f7i7-mBz",
        "colab": {
          "base_uri": "https://localhost:8080/"
        },
        "outputId": "a57caf15-6067-49d4-aa30-a941c38aba09"
      },
      "outputs": [
        {
          "output_type": "execute_result",
          "data": {
            "text/plain": [
              "str"
            ]
          },
          "metadata": {},
          "execution_count": 9
        }
      ],
      "source": [
        "type(c)"
      ]
    },
    {
      "cell_type": "markdown",
      "metadata": {
        "id": "EzMY2M8FH5ud"
      },
      "source": [
        "`a` は `int` という整数の型を持つ変数であり (Integerの略)， `b` は `float` という浮動小数点の型を持つ変数 (Floating-Point Numberの略)です。\n",
        "`c` は `string` という文字列の型を持つ変数であり，値を定義するにはシングルクォート `''` またはダブルクォート `\"\"` で対象の文字をくくる必要があります。\n",
        "またGoogle Colaboratoryでは左上の `{x}` と書かれたボタンを押して変数の型をチェックすることもできます。"
      ]
    },
    {
      "cell_type": "markdown",
      "metadata": {
        "id": "bj6AIwYsChEL"
      },
      "source": [
        "## 複数同時の代入\n",
        "\n",
        "またPythonでは複数の変数に対する導入を一度に行うこともできます。これは **複数同時の代入 (Multiple Assignment)** と呼びます。例えば `a` と `b` のそれぞれに `2` と `3.4` を代入するコードは"
      ]
    },
    {
      "cell_type": "code",
      "execution_count": null,
      "metadata": {
        "id": "gfVFqtL4HC0R"
      },
      "outputs": [],
      "source": [
        "a, b = 2, 3.4"
      ]
    },
    {
      "cell_type": "markdown",
      "metadata": {
        "id": "8RSB2C5WHFlG"
      },
      "source": [
        "です。3つ以上の変数に対する代入もできます。"
      ]
    },
    {
      "cell_type": "code",
      "execution_count": null,
      "metadata": {
        "id": "9dRSh9NoHJU8"
      },
      "outputs": [],
      "source": [
        "a, b, c = 2, 3.4, \"TechTrain\""
      ]
    },
    {
      "cell_type": "markdown",
      "metadata": {
        "id": "ldRXpUfrJ7EM"
      },
      "source": [
        "## 算術演算子\n",
        "\n",
        "さまざまな計算をするための **算術子** と呼ばれる記号があります。はじめに紹介するのは **算術演算子 (Arithmetic Operator)** で，2つの変数または値を受け取り，1つの演算結果を返します。\n",
        "\n",
        "代表的な演算として **四則演算（加算・減算・乗算・除算** があります。Pythonでは以下の記号を用います。\n",
        "\n",
        "演算 | 記号\n",
        "-- | --\n",
        "加算 (足し算) | `+`\n",
        "減算 (引き算) | `-`\n",
        "乗算 (かけ算) | `*`\n",
        "除算 (わり算) | `/`\n",
        "\n"
      ]
    },
    {
      "cell_type": "code",
      "execution_count": null,
      "metadata": {
        "id": "_qIu96faLYsH",
        "colab": {
          "base_uri": "https://localhost:8080/"
        },
        "outputId": "5a3e2125-ab4c-422d-ccc2-f82980740a34"
      },
      "outputs": [
        {
          "output_type": "execute_result",
          "data": {
            "text/plain": [
              "2"
            ]
          },
          "metadata": {},
          "execution_count": 12
        }
      ],
      "source": [
        "# 整数 + 整数 -> 結果は整数\n",
        "1 + 1"
      ]
    },
    {
      "cell_type": "markdown",
      "metadata": {
        "id": "YD_QkS-0Liw8"
      },
      "source": [
        "このように，演算子を使うときは **記号の両側に値を書きます。** このとき，演算子の両側にひとつずつ空白を空けることが多いです。文法的な意味はありませんが，コードが読みやすくなります。\n",
        "下記のように，値が代入されている変数との演算も行うことができます。"
      ]
    },
    {
      "cell_type": "code",
      "execution_count": null,
      "metadata": {
        "id": "7o26Z73BLcaM",
        "colab": {
          "base_uri": "https://localhost:8080/"
        },
        "outputId": "321e9a8a-7de4-47ca-c99d-14d97e0d27c9"
      },
      "outputs": [
        {
          "output_type": "execute_result",
          "data": {
            "text/plain": [
              "4"
            ]
          },
          "metadata": {},
          "execution_count": 13
        }
      ],
      "source": [
        "a + 2"
      ]
    },
    {
      "cell_type": "markdown",
      "metadata": {
        "id": "-83f-DpyDXYx"
      },
      "source": [
        "また `int` と `float` は異なる型同士ですが，計算を行うことができます。 `int` と `float` の演算結果の型は `float` になります。"
      ]
    },
    {
      "cell_type": "code",
      "execution_count": null,
      "metadata": {
        "id": "xCK0owFDLzD2",
        "colab": {
          "base_uri": "https://localhost:8080/"
        },
        "outputId": "e20c9ad5-5f9c-435d-a7a6-c9868faf75ac"
      },
      "outputs": [
        {
          "output_type": "execute_result",
          "data": {
            "text/plain": [
              "5.4"
            ]
          },
          "metadata": {},
          "execution_count": 14
        }
      ],
      "source": [
        "a = 2\n",
        "b = 3.4\n",
        "a + b"
      ]
    },
    {
      "cell_type": "markdown",
      "metadata": {
        "id": "0cixwUsjDvwK"
      },
      "source": [
        "ここで注意すべき点として，整数や浮動小数点と文字列との演算は基本的にエラーになります。"
      ]
    },
    {
      "cell_type": "code",
      "execution_count": null,
      "metadata": {
        "id": "3ST_1yNjDk6R",
        "colab": {
          "base_uri": "https://localhost:8080/",
          "height": 205
        },
        "outputId": "f68e8ec0-d922-4025-8465-7f560a2e2510"
      },
      "outputs": [
        {
          "output_type": "error",
          "ename": "TypeError",
          "evalue": "ignored",
          "traceback": [
            "\u001b[0;31m---------------------------------------------------------------------------\u001b[0m",
            "\u001b[0;31mTypeError\u001b[0m                                 Traceback (most recent call last)",
            "\u001b[0;32m<ipython-input-15-2e3c87a086d6>\u001b[0m in \u001b[0;36m<cell line: 3>\u001b[0;34m()\u001b[0m\n\u001b[1;32m      1\u001b[0m \u001b[0ma\u001b[0m \u001b[0;34m=\u001b[0m \u001b[0;36m3\u001b[0m\u001b[0;34m\u001b[0m\u001b[0;34m\u001b[0m\u001b[0m\n\u001b[1;32m      2\u001b[0m \u001b[0mb\u001b[0m \u001b[0;34m=\u001b[0m \u001b[0;34m\"TechTrain\"\u001b[0m\u001b[0;34m\u001b[0m\u001b[0;34m\u001b[0m\u001b[0m\n\u001b[0;32m----> 3\u001b[0;31m \u001b[0ma\u001b[0m \u001b[0;34m+\u001b[0m \u001b[0mb\u001b[0m\u001b[0;34m\u001b[0m\u001b[0;34m\u001b[0m\u001b[0m\n\u001b[0m",
            "\u001b[0;31mTypeError\u001b[0m: unsupported operand type(s) for +: 'int' and 'str'"
          ]
        }
      ],
      "source": [
        "a = 3\n",
        "b = \"TechTrain\"\n",
        "a + b"
      ]
    },
    {
      "cell_type": "markdown",
      "metadata": {
        "id": "iHQqrektEFlx"
      },
      "source": [
        "こういった「コンピュータにとって間違った操作」をすると **エラーメッセージ (Error Message)** が出てきます。ちょっと読んでみましょう。\n",
        "\n",
        "> TypeError: unsupported operand type(s) for +: 'int' and 'str'\n",
        "\n",
        "「 `+` にとって `int` と `str` はサポートされていない被作用子（ `+` が作用する対象のこと。operand）です」と書かれています。英語のため少しわかりにくいかもしれませんが，このようにエラーメッセージを読むことで自身のコードの間違いに気づくこともできます。\n",
        "\n",
        "`int` もしくは `float` と `str` の間の加算 `+` や減算 `-` では上記のエラーが発生します。しかし `str` と `int` の乗算 `*` は特別にサポートされています。"
      ]
    },
    {
      "cell_type": "code",
      "execution_count": null,
      "metadata": {
        "id": "QV4Ev3h_D9kC"
      },
      "outputs": [],
      "source": [
        "# str と int でかけ算\n",
        "c = \"TechTrain\"\n",
        "c * 3"
      ]
    },
    {
      "cell_type": "markdown",
      "metadata": {
        "id": "CSIzJsFjFOIb"
      },
      "source": [
        "また `str` 同士で足し算を行うこともできます。"
      ]
    },
    {
      "cell_type": "code",
      "execution_count": null,
      "metadata": {
        "id": "SWJ8dY90FFer"
      },
      "outputs": [],
      "source": [
        "name1 = \"TechTrain\"\n",
        "name2 = \"TechBowl\"\n",
        "name1 + name2"
      ]
    },
    {
      "cell_type": "markdown",
      "metadata": {
        "id": "jUVgJLreJOnv"
      },
      "source": [
        "整数と文字列を連結したいこともあります。 例えば `2` という整数に `'番目` という文字列を足して `'2番目'` という文字列を作りたいといったことがよくあります。 その場合は，型を変換する **キャスト (Cast)** という操作をする必要があります。\n",
        "\n",
        "何かを `int` にキャストしたい場合は `int()` という組み込み関数を使い，`str` にキャストしたい場合は `str()` という組み込み関数を使います。では， `2` という整数を `str` にキャストして `'番目'` という文字列と足し算をしてみましょう。"
      ]
    },
    {
      "cell_type": "code",
      "execution_count": null,
      "metadata": {
        "id": "uC2Dh6VSJP8i"
      },
      "outputs": [],
      "source": [
        "number = 2"
      ]
    },
    {
      "cell_type": "code",
      "execution_count": null,
      "metadata": {
        "id": "2bIg3DijJWWj"
      },
      "outputs": [],
      "source": [
        "type(number)"
      ]
    },
    {
      "cell_type": "code",
      "execution_count": null,
      "metadata": {
        "id": "xteUi1ivJaFG"
      },
      "outputs": [],
      "source": [
        "str(number)"
      ]
    },
    {
      "cell_type": "code",
      "execution_count": null,
      "metadata": {
        "id": "R5oOu2yfJcyz"
      },
      "outputs": [],
      "source": [
        "type(str(number))"
      ]
    },
    {
      "cell_type": "code",
      "execution_count": null,
      "metadata": {
        "id": "sIKk11A1Jiac"
      },
      "outputs": [],
      "source": [
        "str(number) + '番目'"
      ]
    },
    {
      "cell_type": "markdown",
      "metadata": {
        "id": "l-wh7fJ7Fc4t"
      },
      "source": [
        "\n",
        "また `+=` や `-=` もよく使います。これは，演算と代入を合わせて行うもので **累積代入文 (Augumented Assignment Statement)** と呼ばれます。\n",
        "下記に示すように `+=` では左辺の変数に大して右辺の値を足した結果で，左辺の変数が更新されます。"
      ]
    },
    {
      "cell_type": "code",
      "execution_count": null,
      "metadata": {
        "id": "ppx8Psm9FW4f"
      },
      "outputs": [],
      "source": [
        "# 累積代入文を使わない場合\n",
        "counter = 0\n",
        "counter = counter + 1\n",
        "counter"
      ]
    },
    {
      "cell_type": "code",
      "execution_count": null,
      "metadata": {
        "id": "Kpq07pYoF1iY"
      },
      "outputs": [],
      "source": [
        "# 累積代入文を使う場合\n",
        "counter = 0\n",
        "counter += 1\n",
        "counter"
      ]
    },
    {
      "cell_type": "markdown",
      "metadata": {
        "id": "zHo98X7OGAuB"
      },
      "source": [
        "他にもいくつかの算術演算子が用意されています。たとえば以下の演算子です。\n",
        "\n",
        "演算 | 記号\n",
        "-- | --\n",
        "累乗 | `**`\n",
        "剰余 | `/`\n",
        "\n",
        "`**` を使うと，2を4回かけた数 $2^4$ は以下のように計算できます。"
      ]
    },
    {
      "cell_type": "code",
      "execution_count": null,
      "metadata": {
        "id": "uVHEy8_-GhnR"
      },
      "outputs": [],
      "source": [
        "# 累乗\n",
        "2 ** 4"
      ]
    },
    {
      "cell_type": "markdown",
      "metadata": {
        "id": "L2gcpLIBGnJ9"
      },
      "source": [
        "また `%` を使うと，13を3で割ったあまりは以下のように計算できます"
      ]
    },
    {
      "cell_type": "code",
      "execution_count": null,
      "metadata": {
        "id": "iVQn-mokGsIM"
      },
      "outputs": [],
      "source": [
        "# あまり\n",
        "13 % 3"
      ]
    },
    {
      "cell_type": "markdown",
      "metadata": {
        "id": "X-ayuRfSGxge"
      },
      "source": [
        "## 比較演算子\n",
        "\n",
        "比較演算子は，2つの値の比較を行う演算子です。\n",
        "\n",
        "演算 | 記号\n",
        "-- | --\n",
        "小なり | `<`\n",
        "大なり | `>`\n",
        "以下 | `<=`\n",
        "以上 | `>=`\n",
        "等しい | `==`\n",
        "等しくない | `!=`\n",
        "\n",
        "比較演算子は，その両側に与えられた値が決まった条件を満たすかどうか計算し，満たしている場合は `True` を，満たしていない場合は `False` を返します。`True` や `False` は **ブール型** や **真偽値 (Bool) 型** と呼ばれる型を持った値です。ブール型の値は `True` または `False` の2種類しか存在しません。"
      ]
    },
    {
      "cell_type": "code",
      "execution_count": null,
      "metadata": {
        "id": "q9-jRAVTF5k6"
      },
      "outputs": [],
      "source": [
        "1 > 2"
      ]
    },
    {
      "cell_type": "code",
      "execution_count": null,
      "metadata": {
        "id": "3VjLAZUNHpyZ"
      },
      "outputs": [],
      "source": [
        "# 型を確認する\n",
        "type(1 > 2)"
      ]
    },
    {
      "cell_type": "code",
      "execution_count": null,
      "metadata": {
        "id": "en5kzoERHux6"
      },
      "outputs": [],
      "source": [
        "1 == 2"
      ]
    },
    {
      "cell_type": "code",
      "execution_count": null,
      "metadata": {
        "id": "b0UxbKS-HxhM"
      },
      "outputs": [],
      "source": [
        "1 != 2"
      ]
    },
    {
      "cell_type": "code",
      "execution_count": null,
      "metadata": {
        "id": "yL01clreHzwl"
      },
      "outputs": [],
      "source": [
        "5 >= 5"
      ]
    },
    {
      "cell_type": "markdown",
      "metadata": {
        "id": "Vgm9WFZLH33d"
      },
      "source": [
        "等しいかどうかを判定する比較演算子 `==` は，代入演算子 `=` とは異なります。間違えないように注意してください。"
      ]
    },
    {
      "cell_type": "markdown",
      "metadata": {
        "id": "x81QyPbkIG4a"
      },
      "source": [
        "# 確認テスト\n",
        "\n",
        "(1) 3の5乗 (3×3×3×3×3) を計算してください。\n",
        "\n",
        "(2) `1.2 - 0.2` の計算結果の型を答えてください。\n",
        "\n",
        "(3) `1.2 >= 2.0` の計算結果の型を答えてください。\n",
        "\n",
        "(4) 以下のコードを修正して， `5 + 4` を計算してください。 "
      ]
    },
    {
      "cell_type": "code",
      "execution_count": null,
      "metadata": {
        "id": "bSZAV_YGJ1JQ",
        "colab": {
          "base_uri": "https://localhost:8080/"
        },
        "outputId": "a684bd7e-833b-4213-a225-629b1f41e6d0"
      },
      "outputs": [
        {
          "output_type": "stream",
          "name": "stdout",
          "text": [
            "243\n"
          ]
        }
      ],
      "source": [
        "# 問1の答えを計算してみよう (3*3*3*3*3 を計算するのではなく、5乗を計算しましょう)\n",
        "a = 3**5\n",
        "print(a)"
      ]
    },
    {
      "cell_type": "code",
      "execution_count": null,
      "metadata": {
        "id": "j9zRv3x_Pk2O",
        "colab": {
          "base_uri": "https://localhost:8080/"
        },
        "outputId": "acfb608e-bcbb-477a-91e9-be2854ac71bc"
      },
      "outputs": [
        {
          "output_type": "stream",
          "name": "stdout",
          "text": [
            "<class 'float'>\n"
          ]
        }
      ],
      "source": [
        "# 問2の答えを調べてみよう\n",
        "# 1.2 - 0.2\n",
        "a = 1.2-0.2\n",
        "print(type(a))"
      ]
    },
    {
      "cell_type": "code",
      "execution_count": null,
      "metadata": {
        "id": "I-xJa_eEQX2d",
        "colab": {
          "base_uri": "https://localhost:8080/"
        },
        "outputId": "f1ef205b-91e6-444a-cd1d-3b93acda7c3d"
      },
      "outputs": [
        {
          "output_type": "stream",
          "name": "stdout",
          "text": [
            "<class 'bool'>\n"
          ]
        }
      ],
      "source": [
        "# 問3の答えを調べてみよう\n",
        "# 1.2 >= 2.0\n",
        "a = 1.2 >= 2.0\n",
        "print(type(a))"
      ]
    },
    {
      "cell_type": "code",
      "execution_count": null,
      "metadata": {
        "id": "CfE-k9dKJ543",
        "colab": {
          "base_uri": "https://localhost:8080/"
        },
        "outputId": "d287a57c-483a-4bb2-e190-5992c7903722"
      },
      "outputs": [
        {
          "output_type": "stream",
          "name": "stdout",
          "text": [
            "9\n"
          ]
        }
      ],
      "source": [
        "# 問4の答えを考えてみよう\n",
        "a = 5\n",
        "b = \"4\"\n",
        "c = a + int(b) # この行を修正して、正しく計算がおこなわれるようにしましょう\n",
        "print(c)"
      ]
    }
  ],
  "metadata": {
    "colab": {
      "provenance": [],
      "include_colab_link": true
    },
    "kernelspec": {
      "display_name": "Python 3",
      "name": "python3"
    },
    "language_info": {
      "name": "python"
    }
  },
  "nbformat": 4,
  "nbformat_minor": 0
}