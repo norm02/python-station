{
  "cells": [
    {
      "cell_type": "markdown",
      "metadata": {
        "id": "bZ-ql7ne0BWJ"
      },
      "source": [
        "| Version | Published Date| Details | \n",
        "| -- | -- | -- |\n",
        "| ver.1.0.0 | 2023/3/29 | 初版リリース |"
      ]
    },
    {
      "cell_type": "markdown",
      "metadata": {
        "id": "yj-bfGBiruUN"
      },
      "source": [
        "# 関数について学ぼう\n",
        "\n",
        "Station3ではプログラミングにおける重要な概念のひとつである **制御構造** について学びました。 `for` , `if` , `while` がそれぞれどんなものだったか覚えていますか？\n",
        "\n",
        "さてStation4では，関数について学びます。すでに以前のStationで組み込み関数が出てきましたが，実はPythonでは関数を自作することができます。プログラミングについて学ぶStationはいったんここで終わります。しっかり身につけて，メインディッシュのデータ分析に進んでいきましょう。"
      ]
    },
    {
      "cell_type": "markdown",
      "metadata": {
        "id": "UwGcCuBNsmhr"
      },
      "source": [
        "# 関数\n",
        "\n",
        "プログラミングでは，なにかひとまとまりの処理を書いた際に，その処理のためのコードをまとめておくことがあります。こうしてまとめたものをプログラム全体の様々な部分から再利用できるようにしておくと，便利な場合があります。プログラムをひとまとめにする方法はいくつもありますが，ここではそのひとつとして **関数 (function)** を定義する方法を紹介します。"
      ]
    },
    {
      "cell_type": "markdown",
      "metadata": {
        "id": "DQmOodmPtB62"
      },
      "source": [
        "## 関数の定義\n",
        "\n",
        "<img src=\"https://drive.google.com/uc?id=1YO39HEv1DyeqU7nKYFPBIiKn3Bl1rKZL\" width=\"640px\">\n",
        "\n",
        "たとえば， **受け取った値を3倍して表示する関数** を作ってみましょう。\n",
        "\n",
        "関数を定義するには，まず関数の名前を決める必要があります。今回は `triple()` という名前の関数を定義してみます。\n",
        "\n",
        "関数も制御構文と同じように **ヘッダー** と **ブロック** を持っています。関数を宣言するための `def` は英語で「定義する」を意味する define の略だと言われています。"
      ]
    },
    {
      "cell_type": "code",
      "execution_count": null,
      "metadata": {
        "id": "93kmbakkw4Ks"
      },
      "outputs": [],
      "source": [
        "# 関数 triple() の定義\n",
        "def triple(x):\n",
        "    print(3 * x)"
      ]
    },
    {
      "cell_type": "markdown",
      "metadata": {
        "id": "G2ipLujlyyRp"
      },
      "source": [
        "**関数は定義されただけでは実行されません。** 定義した関数を使用するためには，定義を行うコードとは別に，実行を行うコードが必要です。"
      ]
    },
    {
      "cell_type": "code",
      "execution_count": null,
      "metadata": {
        "id": "ajUQuvD9zGW2"
      },
      "outputs": [],
      "source": [
        "# 関数の実行\n",
        "triple(3)"
      ]
    },
    {
      "cell_type": "code",
      "execution_count": null,
      "metadata": {
        "id": "hztKlB1izJ2j"
      },
      "outputs": [],
      "source": [
        "triple(4)"
      ]
    },
    {
      "cell_type": "code",
      "execution_count": null,
      "metadata": {
        "id": "gZafH8wnzSsu"
      },
      "outputs": [],
      "source": [
        "triple(5.5)"
      ]
    },
    {
      "cell_type": "markdown",
      "metadata": {
        "id": "GUA-OaRry7Ag"
      },
      "source": [
        "`triple(x)` における `x` のように，関数に渡される変数や値のことを **引数 (Argument)** と呼びます。上の例は，名前が `triple` で，ひとつの引数 `x` を取り `3 * x` の計算を行い，その結果を表示しています。"
      ]
    },
    {
      "cell_type": "markdown",
      "metadata": {
        "id": "qLxMiO-T1aWF"
      },
      "source": [
        "## 複数の引数をとる関数\n",
        "\n",
        "関数は引数を複数取ることもできます。その場合は関数名に続く `()` の中にカンマ `,` 区切りで引数名を並べます。\n",
        "\n",
        "たとえば，引数を2つとり，足し算を行った結果を表示する関数 `add()` を作ってみましょう。"
      ]
    },
    {
      "cell_type": "code",
      "execution_count": null,
      "metadata": {
        "id": "Yu-aC8jh1ozX"
      },
      "outputs": [],
      "source": [
        "# 関数 add の定義\n",
        "def add(x, y):\n",
        "    print(x + y)"
      ]
    },
    {
      "cell_type": "code",
      "execution_count": null,
      "metadata": {
        "id": "8OhTScC91xFE"
      },
      "outputs": [],
      "source": [
        "# 関数の実行\n",
        "add(1, 2)"
      ]
    },
    {
      "cell_type": "code",
      "execution_count": null,
      "metadata": {
        "id": "-y4dQVO41zUL"
      },
      "outputs": [],
      "source": [
        "add(3, 4.6)"
      ]
    },
    {
      "cell_type": "code",
      "execution_count": null,
      "metadata": {
        "id": "mjMh8LYs12Ly"
      },
      "outputs": [],
      "source": [
        "add(-1, 22)"
      ]
    },
    {
      "cell_type": "markdown",
      "metadata": {
        "id": "86xJ_3NP3OmR"
      },
      "source": [
        "今回の `triple()` や `add()` は定義を行い自作した関数です。しかしPythonには，あらかじめ多くの関数が定義されています。そのような関数を **組み込み関数 (Built-in Function)** と呼びます。すでに使用している `print()` や `len()` , `range()` などが該当します。Pythonの組み込み関数の一覧は [ここから](https://docs.python.org/ja/3/library/functions.html) 確認できます。"
      ]
    },
    {
      "cell_type": "markdown",
      "metadata": {
        "id": "w_T37AdC3nB5"
      },
      "source": [
        "## 引数をとらない関数\n",
        "\n",
        "Pythonでは引数をとらない関数を定義する場合であっても，関数名のあとに `()` を加えなければなりません。\n",
        "\n",
        "たとえば，実行するとメッセージを表示する関数を定義して，実行してみましょう。"
      ]
    },
    {
      "cell_type": "code",
      "execution_count": null,
      "metadata": {
        "id": "VyJVfext13tc"
      },
      "outputs": [],
      "source": [
        "# 引数をとらない関数の定義\n",
        "def hello():\n",
        "    print(\"Stationにようこそ！\")"
      ]
    },
    {
      "cell_type": "code",
      "execution_count": null,
      "metadata": {
        "id": "SZASGWb234M4"
      },
      "outputs": [],
      "source": [
        "# 引数をとらない関数の実行\n",
        "hello()"
      ]
    },
    {
      "cell_type": "markdown",
      "metadata": {
        "id": "DdqaC2Lb7J14"
      },
      "source": [
        "## 引数のデフォルト値\n",
        "\n",
        "引数には，あらかじめ値を与えておくことができます。引数をとる関数を定義する際に，何も値が渡されなかったとき，どのような値がその引数に渡されたことにするかをあらかじめ決めておける機能です。その値のことを **デフォルト (Default) 値** と呼びます。\n",
        "\n",
        "たとえば，上の `hello()` 関数に `message` という引数を持たせ，そこにデフォルト値を設定しておきます。"
      ]
    },
    {
      "cell_type": "code",
      "execution_count": null,
      "metadata": {
        "id": "kgrQn9Jw7IYV"
      },
      "outputs": [],
      "source": [
        "def hello(message=\"Stationにようこそ！\"):\n",
        "    print(message)"
      ]
    },
    {
      "cell_type": "markdown",
      "metadata": {
        "id": "VsuIeilc7tHi"
      },
      "source": [
        "この関数は引数に何も与えずに呼び出すと \"Stationにようこそ！\" というメッセージを表示します。引数に特別な値が渡されると，その値を表示します。"
      ]
    },
    {
      "cell_type": "code",
      "execution_count": null,
      "metadata": {
        "id": "Ev3PyBaU7rKw"
      },
      "outputs": [],
      "source": [
        "hello()"
      ]
    },
    {
      "cell_type": "code",
      "execution_count": null,
      "metadata": {
        "id": "w1kmVS_q73iZ"
      },
      "outputs": [],
      "source": [
        "hello(\"Welcome to TechTrain Station!\")"
      ]
    },
    {
      "cell_type": "markdown",
      "metadata": {
        "id": "7eh0OJ718EQG"
      },
      "source": [
        "デフォルト値が与えられていない引数は，関数が呼び出される際に必ず何らかの値が渡される必要があります。しかしデフォルト値を持つ場合は，何も指定しなくても関数を呼び出すことができるようになります。"
      ]
    },
    {
      "cell_type": "markdown",
      "metadata": {
        "id": "JRVncHCr9g8B"
      },
      "source": [
        "## 返り値のある関数\n",
        "\n",
        "上で定義した足し算を行う関数 `add()` では，計算結果を表示するだけで，計算結果を呼び出し元に返していませんでした。そのため，このままでは計算結果を関数の外から利用できません。\n",
        "\n",
        "そこで `add()` 関数の末尾に `return` 文を追加して，計算結果を呼び出し元に返すように変更してみましょう。"
      ]
    },
    {
      "cell_type": "code",
      "execution_count": null,
      "metadata": {
        "id": "cieacLcj95Y8"
      },
      "outputs": [],
      "source": [
        "# 返り値のある関数の定義\n",
        "def add(a, b):\n",
        "    return a + b"
      ]
    },
    {
      "cell_type": "markdown",
      "metadata": {
        "id": "3SKCgNV--Jlb"
      },
      "source": [
        "このように，呼び出し元へ返したい値を `return` に続いて書くと，その値が `add()` を呼び出したところへ戻されます。 `return` で返される値のことを **返り値 (Return Value)** と呼びます。 `return` で返す値には `()` をつけても動きますが，通常はつけない場合が多いです。\n",
        "\n",
        "以下に，計算結果を `result` という変数に格納し，表示する例を示します。"
      ]
    },
    {
      "cell_type": "code",
      "execution_count": null,
      "metadata": {
        "id": "2O4m5lYj-EPv"
      },
      "outputs": [],
      "source": [
        "result = add(5, 6)\n",
        "\n",
        "result"
      ]
    },
    {
      "cell_type": "markdown",
      "metadata": {
        "id": "DCKCSVoY-9bP"
      },
      "source": [
        "計算結果が `result` に格納されているため，この結果を用いてさらに別の処理を行うことができます。"
      ]
    },
    {
      "cell_type": "code",
      "execution_count": null,
      "metadata": {
        "id": "Ybmv18oE-jxi"
      },
      "outputs": [],
      "source": [
        "result = add(2, 4)\n",
        "result_tripled = result * 3\n",
        "result_tripled"
      ]
    },
    {
      "cell_type": "markdown",
      "metadata": {
        "id": "5LT_sSju_J0f"
      },
      "source": [
        "また，返り値は「呼び出し元」に返されるとはどういうことでしょうか？この「呼び出し元」というのは，関数を呼び出した部分のことです。たとえば上のコードでは `add(2, 4)` の部分が `6` という結果の値になり，それが左辺の `result` に代入されます。\n",
        "\n",
        "これを用いると，たとえば「3 と 5 を足した結果と，2 と 4 を足した結果をかけ合わせる」計算が，このように書けます。"
      ]
    },
    {
      "cell_type": "code",
      "execution_count": null,
      "metadata": {
        "id": "M-DLvulW_G9T"
      },
      "outputs": [],
      "source": [
        "add(3, 5) * add(2, 4)"
      ]
    },
    {
      "cell_type": "markdown",
      "metadata": {
        "id": "ndOHyglaDNoL"
      },
      "source": [
        "## 変数のスコープ\n",
        "\n",
        "関数の中で定義した変数は，基本的に関数の外では利用できません。たとえば，以下の例を見てみましょう。"
      ]
    },
    {
      "cell_type": "code",
      "execution_count": null,
      "metadata": {
        "id": "nj1cJbHnDKHs"
      },
      "outputs": [],
      "source": [
        "a = 3\n",
        "\n",
        "# 関数の内部で a に 2 を代入\n",
        "def change():\n",
        "    a = 2\n",
        "\n",
        "change()\n",
        "\n",
        "a"
      ]
    },
    {
      "cell_type": "markdown",
      "metadata": {
        "id": "ePnvIjyfFhLF"
      },
      "source": [
        "関数の外で `a = 3` と初期化した変数と同じ名前の変数に対して `change()` 関数の内部で `a = 2` という代入を行っているにもかかわらず `change()` 関数の実行後にも関数の外側では `a` の値は `3` のままになっています。 **関数の外側で定義された変数 `a` に関数内部での処理が影響していない** ことがわかります。\n",
        "\n",
        "なぜこうなるのか説明しましょう。関数の中で変数に値が代入されるとき，その変数はその関数の **スコープ (Scope)** だけで有効な **ローカル変数 (Local Variable)** になり，関数の外にある同じ名前の変数とは別のものを指すようになるからです。\n",
        "\n",
        "スコープとは，その変数が参照可能な範囲のことです。上の例では `a = 2` の代入を行った時点で `change()` 関数のスコープに変数 `a` が作られ `change()` 関数の中からは `a` といえばこれを指すようになります。関数のブロックから抜けると `a` は 3 を値に持つ外側の変数を指すようになります。\n",
        "\n",
        "代入を行わずに参照するだけであれば，関数の内側から外側で定義された変数を利用できます。"
      ]
    },
    {
      "cell_type": "code",
      "execution_count": null,
      "metadata": {
        "id": "x-c8uAHLDZNE"
      },
      "outputs": [],
      "source": [
        "a = 3\n",
        "\n",
        "def change():\n",
        "    print('From inside:', a)\n",
        "\n",
        "change()\n",
        "\n",
        "print('From outside:', a)\n"
      ]
    },
    {
      "cell_type": "markdown",
      "metadata": {
        "id": "EEMZDzEJeqMF"
      },
      "source": [
        "この場合は `change()` 関数のスコープには `a` という変数は作られません。そのため関数の中で `a` といえば外側で定義された変数を指します。\n",
        "\n",
        "関数の外で定義された変数は **グローバル変数 (Global Variable)** と呼ばれます。グローバル変数は，特別な記述をせず参照できます。しかし関数の中で **代入** を行う場合は `global` を使って，代入先をグローバル変数とする宣言を行う必要があります。"
      ]
    },
    {
      "cell_type": "code",
      "execution_count": null,
      "metadata": {
        "id": "GbHXXTtjeKqI"
      },
      "outputs": [],
      "source": [
        "a = 5\n",
        "\n",
        "def change():\n",
        "    global a    # a がグローバル変数である宣言\n",
        "    a = 2       # グローバル変数への代入\n",
        "\n",
        "# 関数の実行\n",
        "change()\n",
        "\n",
        "# 結果の確認 <- a の値が上書きされている\n",
        "a"
      ]
    },
    {
      "cell_type": "markdown",
      "metadata": {
        "id": "ceLI0TdNmVFG"
      },
      "source": [
        "`global a` という行を `change()` 関数内で `a` という変数を使用する前に追加します。するとその行以降は `a` という変数への代入も関数の外側で定義されたグローバル変数の `a` に対して行われます。"
      ]
    },
    {
      "cell_type": "markdown",
      "metadata": {
        "id": "DE72zLRHmnbX"
      },
      "source": [
        "# 確認テスト\n",
        "\n",
        "以下の関数を実装してください。\n",
        "\n",
        "(1) 3つの数字 `x, y, z` を受け取って `x + y + z` を返してください。\n",
        "\n",
        "(2) リストを受け取って逆順にして返してください。たとえば `[1, 2, 3]` を受け取ったら `[3, 2, 1]` を返してください。 `reverse()` を使いましょう。\n",
        "\n",
        "(3) 辞書を受け取って key に `数学` が含まれるかどうかを判定してください。in演算子を使いましょう。"
      ]
    },
    {
      "cell_type": "code",
      "execution_count": null,
      "metadata": {
        "id": "ZWIWPnrBmyFZ",
        "colab": {
          "base_uri": "https://localhost:8080/"
        },
        "outputId": "373cee14-78b2-4d85-b472-2bb5056ca190"
      },
      "outputs": [
        {
          "output_type": "stream",
          "name": "stdout",
          "text": [
            "6\n",
            "[5, 3, 1]\n",
            "False\n",
            "True\n"
          ]
        }
      ],
      "source": [
        "def add_three_values(x, y, z):\n",
        "    # (1) ここに関数を書いてください\n",
        "    return  x+y+z\n",
        "\n",
        "def reversed_list(target_list):\n",
        "    # (2) ここに関数を書いてください\n",
        "    return target_list.reverse()\n",
        "\n",
        "def including_math(target_dict):\n",
        "    # (3)ここに関数を書いてください\n",
        "    return \"数学\" in target_dict.keys()\n",
        "# --関数の動作を確認する場合はこちらを使ってください--\n",
        "# (1)\n",
        "print(add_three_values(1,2,3))\n",
        "# (2)\n",
        "target_list=[1,3,5]\n",
        "reversed_list(target_list)\n",
        "print(target_list)\n",
        "# (3)\n",
        "print(including_math({\"Python\":\"3.10\", \"Ruby\":\"3.2.1\", \"Go\":\"1.20.1\"}))\n",
        "print(including_math({\"国語\": 1, \"数学\": 2, \"英語\": 3}))"
      ]
    }
  ],
  "metadata": {
    "colab": {
      "provenance": []
    },
    "kernelspec": {
      "display_name": "Python 3",
      "name": "python3"
    },
    "language_info": {
      "name": "python"
    }
  },
  "nbformat": 4,
  "nbformat_minor": 0
}