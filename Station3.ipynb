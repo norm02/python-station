{
  "cells": [
    {
      "cell_type": "markdown",
      "metadata": {
        "id": "6ySoBbNCtcKW"
      },
      "source": [
        "| Version | Published Date| Details | \n",
        "| -- | -- | -- |\n",
        "| ver.1.0.0 | 2023/3/29 | 初版リリース |"
      ]
    },
    {
      "cell_type": "markdown",
      "metadata": {
        "id": "CkefAbkmn0Yb"
      },
      "source": [
        "# プログラミングの制御を学ぼう\n",
        "\n",
        "Station2ではより本格的なPythonの操作を学びました。メソッド，リスト，辞書については覚えていますか？\n",
        "\n",
        "さてStation3では，より本格的なプログラミングについて学びます。具体的には繰り返しや条件分岐といった概念を習得します。こういった論理的な概念は，データ分析ばかりではなくプログラミングの中心的な概念です。やや抽象的な話が続きますが，しっかり理解して次に進みましょう。"
      ]
    },
    {
      "cell_type": "markdown",
      "metadata": {
        "id": "cJGgU8e9oatG"
      },
      "source": [
        "# 制御構造\n",
        "\n",
        "Station2までは比較的シンプルな構造のプログラムを多く扱ってきました。しかし複雑なプログラムを記述しようとすると，繰り返しや条件によって動作を変える処理が必要になります。これらは **制御構文** を使って記述します。\n",
        "\n",
        "ここでは最も基本的な制御構文を2つ照会します。\n",
        "\n",
        "- 繰り返し ( `for`, `while` )\n",
        "- 条件分岐 ( `if` )\n",
        "\n",
        "Pythonでは制御構文は **ヘッダ (Header)** と **ブロック (Block)** と呼ばれる2つの文で構成されます。これらを合わせて **複合文 (Composed Statement)** と呼びます。\n",
        "\n",
        "<img src=\"https://drive.google.com/uc?id=1NOOA_1Tn5NZ6yOuugqbS6Mj8u3l_992T\" width=\"640px\">\n",
        "\n",
        "上の図に示すように，制御構文ではヘッダー行に `for` 文や `if-else` 句を記述し，行末に `:` 記号を書きます。次に，ヘッダー行の条件で実行したい一連の処理文を，ブロックとしてその次の行以降に記述します。\n",
        "\n",
        "その際 **インデント (Indent)** と呼ばれる空白文字を先頭に挿入し，ブロックを表現します。同じ数の空白でインデントされた文がブロックとみなされます。Pythonではインデントとして **空白4つ** を用いることが多いです。そのためGoogle Coraboratory上でもインデントの設定を変更しておきましょう。\n",
        "\n",
        "画面上部の **ツール→設定** と進み **エディタ** というところから **インデント幅 (スペース)** を4に設定します。\n",
        "\n",
        "<img src=\"https://drive.google.com/uc?id=1Zh4iHRIO02crmctn7GTMDDzw2jX3SrLJ\" width=\"640px\">\n",
        "\n",
        "<img src=\"https://drive.google.com/uc?id=19XhJpudbTT82KQij-uoes3y1M9ZFHxL-\" width=\"640px\">\n"
      ]
    },
    {
      "cell_type": "markdown",
      "metadata": {
        "id": "IiyxZCHOuwLa"
      },
      "source": [
        "## 繰り返し ( `for` 文 )\n",
        "\n",
        "同じ内容のメールを宛名だけを変えて1,000人に一斉に送信したい場合を考えます。こういったときは，繰り返す処理を記述する制御構文である `for` を使います。\n",
        "\n",
        "<img src=\"https://drive.google.com/uc?id=10HZT2IiG7r0WfQPBw49Lion8ANdoLg4M\" width=\"640px\">\n",
        "\n",
        "`for` 文の文法は上図のとおりです。\n",
        "\n",
        "**イテラブルオブジェクト (Iterable Object)** は反復可能なオブジェクトのことで，要素をひとつずつ返すオブジェクトのことです。 `range()` という組み込み関数を使うと，与えた整数の回数だけ順番に整数を返すイテラブルオブジェクトを作ることができます。たとえば `range(5)` と書くと `0, 1, 2, 3, 4` の整数5つを順番に返すイテラブルオブジェクトを作れます。\n",
        "\n",
        "あとで詳しく説明しますが，このイテラブルオブジェクトとして，リストやタプルを指定することができます。"
      ]
    },
    {
      "cell_type": "code",
      "execution_count": null,
      "metadata": {
        "id": "m7VDODANw80q"
      },
      "outputs": [],
      "source": [
        "# 5回繰り返す\n",
        "for i in range(5):\n",
        "    print(i)"
      ]
    },
    {
      "cell_type": "markdown",
      "metadata": {
        "id": "tz44DVI2xERe"
      },
      "source": [
        "上記の例では，イテラブルオブジェクトがひとつずつ返す値を変数 `i` で受け取っています。こういった場合には `index` の頭文字 `i` を変数にすることが多いです。ここで **最初が `i = 0`** からはじまることに注意しましょう。最後の値も `5` ではなく `4` です。\n",
        "\n",
        "`range()` に整数をひとつ与えた場合は，0からその整数 - 1まで1ずつ増えていく整数を順番に返します。"
      ]
    },
    {
      "cell_type": "code",
      "execution_count": null,
      "metadata": {
        "id": "Kzv23Wptr7kU"
      },
      "outputs": [],
      "source": [
        "# 繰り返し処理が終わったあとの値の確認\n",
        "i"
      ]
    },
    {
      "cell_type": "markdown",
      "metadata": {
        "id": "Cv_mxXKqx2X0"
      },
      "source": [
        "Google Colaboratory では変数名をコードセルの最後の行に書いて実行するとその変数に代入された値を確認できました。しかし `for` 文の中のブロックでは明示的に `print()` を使う必要があります。 `print()` を用いないと，以下のように何も表示されません。"
      ]
    },
    {
      "cell_type": "code",
      "execution_count": null,
      "metadata": {
        "id": "US2qNMi0xu2G"
      },
      "outputs": [],
      "source": [
        "# ブロック内の変数の値は表示されない\n",
        "for i in range(5):\n",
        "    i"
      ]
    },
    {
      "cell_type": "markdown",
      "metadata": {
        "id": "DDi5VCpszTsV"
      },
      "source": [
        "for 文を使って 0 からはじまって 1 ずつ大きくなっていく整数を順番に取得し，これをリストのインデックスに利用すれば，リストの各要素に順番にアクセスできます。"
      ]
    },
    {
      "cell_type": "code",
      "execution_count": null,
      "metadata": {
        "id": "k7kco4qsyKau"
      },
      "outputs": [],
      "source": [
        "prefs = ['愛知', '神奈川', '石川']\n",
        "\n",
        "for i in range(3):\n",
        "    print(prefs[i])"
      ]
    },
    {
      "cell_type": "markdown",
      "metadata": {
        "id": "uOR3UQfrzu4N"
      },
      "source": [
        "少し応用して，自動的に「県」をつけて表示してみましょう。"
      ]
    },
    {
      "cell_type": "code",
      "execution_count": null,
      "metadata": {
        "id": "o_Zlf6nhzpEG"
      },
      "outputs": [],
      "source": [
        "for i in range(3):\n",
        "    print(f'{prefs[i]}県')"
      ]
    },
    {
      "cell_type": "markdown",
      "metadata": {
        "id": "S0vFUQCX0EgH"
      },
      "source": [
        "もっと汎用性の高いコードを目指してみましょう。\n",
        "\n",
        "上記のコードは `range(3)` のように `3` という値を直接記述しており，やや汎用性が低くなっています。この `3` はリストの要素数を表していますが，リストの要素数が変わるとこの部分のコードも書き換える必要があります。これは手間がかかったり，ミスの原因となったりします。\n",
        "\n",
        "リストの要素数は，Station2で学んだように組み込み関数 `len()` で取得できます。これを利用して，より読みやすく汎用性の高いコードに書き換えましょう。"
      ]
    },
    {
      "cell_type": "code",
      "execution_count": null,
      "metadata": {
        "id": "OZKSrw7Az_zO"
      },
      "outputs": [],
      "source": [
        "len(prefs)"
      ]
    },
    {
      "cell_type": "code",
      "execution_count": null,
      "metadata": {
        "id": "omanj7ih0uHg"
      },
      "outputs": [],
      "source": [
        "for i in range(len(prefs)):\n",
        "    print(f'{prefs[i]}県')"
      ]
    },
    {
      "cell_type": "markdown",
      "metadata": {
        "id": "G2TXBRGM00O3"
      },
      "source": [
        "これでリストの要素数に依存しないプログラムを書けました。\n",
        "\n",
        "また，リスト自体をイテラブルオブジェクトとして指定することにより，リスト要素数の取得も `[]` でのインデックス番号の指定もせず，より可読性の高いプログラムを書くことができます。"
      ]
    },
    {
      "cell_type": "code",
      "execution_count": null,
      "metadata": {
        "id": "ow0LBMYA0yqn"
      },
      "outputs": [],
      "source": [
        "# リスト自体をイテラブルオブジェクトに指定\n",
        "for pref in prefs:\n",
        "    print(f'{pref}県')"
      ]
    },
    {
      "cell_type": "markdown",
      "metadata": {
        "id": "ScZmVJgN3La7"
      },
      "source": [
        "最初のケースと比べてみましょう。動作としては同じですが，可読性という観点もプログラミングにおいて非常に重要です。\n",
        "\n",
        "### `enumerate()`\n",
        "\n",
        "リストをイテラブルオブジェクトとして指定した場合，要素番号を取得できませんが，場合によっては要素番号を取得したいことがあります。\n",
        "\n",
        "そういった場合は，組み込み関数の `enumerate()` を使います。これにイテラブルオブジェクトを渡すと `(インデックス, 要素)` というタプルをひとつずつ返すイテラブルオブジェクトになります。"
      ]
    },
    {
      "cell_type": "code",
      "execution_count": null,
      "metadata": {
        "id": "cYj4XX8S1IMx"
      },
      "outputs": [],
      "source": [
        "for i, pref in enumerate(prefs):\n",
        "    message = f'{i}番目: {pref}県'\n",
        "    print(message)"
      ]
    },
    {
      "cell_type": "markdown",
      "metadata": {
        "id": "DWahcLP_5qLk"
      },
      "source": [
        "### zip()\n",
        "\n",
        "`enumerate()` と同様 `for` 文と合わせてよく使う組み込み関数に `zip()` があります。\n",
        "\n",
        "`zip()` は，複数のイテラブルオブジェクトを受け取り，その要素の組を順番に返すイテラブルオブジェクトを返します。このオブジェクトは，渡ってきたイテラブルオブジェクトそれぞれの先頭の要素から順番に，タプルに束ねて返します。このイテラブルオブジェクトの長さは，渡されたイテラブルオブジェクトのうち最も短い長さと一致します。"
      ]
    },
    {
      "cell_type": "code",
      "execution_count": null,
      "metadata": {
        "id": "iw-xU60y5nbe"
      },
      "outputs": [],
      "source": [
        "names = [\"Python\", \"Ruby\", \"Go\"]\n",
        "versions = [\"3.10\", \"3.2.1\", \"1.20.1\"]\n",
        "suffixes = [\"!\", \"!!\", \"???\", \"!?!?\"]\n",
        "\n",
        "for name, version, suffix in zip(names, versions, suffixes):\n",
        "    print(f'{name} {version} {suffix}')"
      ]
    },
    {
      "cell_type": "markdown",
      "metadata": {
        "id": "meJaIe9O7RRD"
      },
      "source": [
        "`suffixes` の葉数は4ですが，より短いイテラブルオブジェクトと共に `zip` に渡されたため，先頭から2つ目までしか値が取り出されていません。"
      ]
    },
    {
      "cell_type": "markdown",
      "metadata": {
        "id": "dqgE3J-M8de3"
      },
      "source": [
        "### 辞書\n",
        "\n",
        "また辞書型オブジェクトに対しても `for` を使うことができます。この場合は辞書型の組み込みメソッドである `items()` を使います。辞書オブジェクトに対して `items()` を呼ぶと `(key, value)` というタプルをひとつずつ返すイテラブルオブジェクトになります。"
      ]
    },
    {
      "cell_type": "code",
      "execution_count": null,
      "metadata": {
        "id": "dS0Dxqb784Yk"
      },
      "outputs": [],
      "source": [
        "languages = {\"Python\":\"3.10\", \"Ruby\":\"3.2.1\", \"Go\":\"1.20.1\"}\n",
        "\n",
        "for language, version in languages.items():\n",
        "    print(language, version)"
      ]
    },
    {
      "cell_type": "markdown",
      "metadata": {
        "id": "TjqWfbkxRlLa"
      },
      "source": [
        "## 条件分岐 ( `if` 文 )\n",
        "\n",
        "`if` は指定した条件が `True` か `False` かによって，処理を変えるための制御構文です。\n",
        "\n",
        "<img src=\"https://drive.google.com/uc?id=1BN4Fd3KgXChmw6-xiWu0GmJLqLAWQmPk\" width=\"640px\">\n",
        "\n",
        "`elif` と `else` は任意であり，`elif` はひとつだけでなく複数連ねることができます。`elif` は `else if` の略表記です。\n",
        "\n",
        "たとえば，0より大きいことを条件とした処理を書いてみましょう。"
      ]
    },
    {
      "cell_type": "code",
      "execution_count": null,
      "metadata": {
        "id": "Nw0K4-qd9Mn1"
      },
      "outputs": [],
      "source": [
        "# if の条件を満たす場合\n",
        "num = 1\n",
        "\n",
        "if num > 0:\n",
        "    print('0より大きいです')\n",
        "else:\n",
        "    print('0以下です')"
      ]
    },
    {
      "cell_type": "code",
      "execution_count": null,
      "metadata": {
        "id": "ApjrJAtoU-T0"
      },
      "outputs": [],
      "source": [
        "# if の条件を満たさない場合\n",
        "num = -2\n",
        "\n",
        "if num > 0:\n",
        "    print('0より大きいです')\n",
        "else:\n",
        "    print('0以下です')"
      ]
    },
    {
      "cell_type": "markdown",
      "metadata": {
        "id": "VRm3w9COVDF_"
      },
      "source": [
        "また `if` に対する条件以外の条件分岐を追加する場合は，下記のように `elif` を使います。"
      ]
    },
    {
      "cell_type": "code",
      "execution_count": null,
      "metadata": {
        "id": "igQX8P1LVBS8"
      },
      "outputs": [],
      "source": [
        "num = 0\n",
        "\n",
        "if num > 0:\n",
        "    print('0より大きいです')\n",
        "elif num == 0:\n",
        "    print('0です')\n",
        "else:\n",
        "    print('0より小さいです')"
      ]
    },
    {
      "cell_type": "markdown",
      "metadata": {
        "id": "wmmzno2rVbnh"
      },
      "source": [
        "## 繰り返し ( `while` 文 )\n",
        "\n",
        "繰り返し処理は `for` 以外にも `while` を用いて記述することもできます。 `while` 文では，以下のように **ループを継続する条件** を指定します。ループとは `while` 文のブロック内で繰り返す処理のことです。指定された条件が `True` である限り，ブロックの部分に記述されが繰り返し実行され続けます。\n",
        "\n",
        "<img src=\"https://drive.google.com/uc?id=12-d9iipDahswoEDj9Io-8u-S_MNiHNEC\" width=\"640px\">\n",
        "\n",
        "`while` 文を使用した5回繰り返すプログラムは下記の通りです。"
      ]
    },
    {
      "cell_type": "code",
      "execution_count": null,
      "metadata": {
        "id": "9ZHDsYcRYcQi"
      },
      "outputs": [],
      "source": [
        "count = 0\n",
        "\n",
        "while count < 5:\n",
        "    print(count)\n",
        "    count += 1"
      ]
    },
    {
      "cell_type": "markdown",
      "metadata": {
        "id": "KA2f3IapYj65"
      },
      "source": [
        "ここで使われている `count` 変数は，ループの中身が何回実行されたかを数えます。まず `0` で初期化し，ループ内の処理が一度行われるたびに `count` の値に `1` を足しています。この `count` を使った条件式を `while` 文に与えることで，ループを回したい回数を指定しています。\n",
        "\n",
        "一方で `while True` と指定してみます。 `True` は変数ではなく値なので変更されることはありません。この場合ループはいつまでも回り続け，いわゆる無限ループになります。 `while` 文自体は無限ループにしておいて，ループの中で `if` 文を使って，ある条件が満たされた場合はループを中断する，という使い方ができます。これには `break` を用います。\n",
        "\n",
        "以下は，無限ループと `break` 文を使って，上のコードと同様に5回ループを回すコードです。"
      ]
    },
    {
      "cell_type": "code",
      "execution_count": null,
      "metadata": {
        "id": "LtK3CagkZTWm"
      },
      "outputs": [],
      "source": [
        "count = 0\n",
        "\n",
        "while True:\n",
        "    print(count)\n",
        "    count += 1\n",
        "\n",
        "    if count == 5:\n",
        "        break"
      ]
    },
    {
      "cell_type": "markdown",
      "metadata": {
        "id": "EPtOCxA0ZdMg"
      },
      "source": [
        "この例では `count` の値が `5` と等しいかが毎ループでチェックされ，等しければ `break` 文が実行されて `while` のブロックを抜け出します。\n",
        "\n",
        "`while` 文を使って，指定された条件を満たして **いない** 間ループを繰り返すという処理も書くことができます。 `while` 文の使い方自体は同じですが，条件を反転して与えることで，与えた条件が `False` である限り繰り返すようにできます。\n",
        "\n",
        "このためにはBool値を反転する `not` を使います。 `not True` は `False` を返し， `not False` は `True` を返します。"
      ]
    },
    {
      "cell_type": "code",
      "execution_count": null,
      "metadata": {
        "id": "5hWi9jkeVT8L"
      },
      "outputs": [],
      "source": [
        "not True"
      ]
    },
    {
      "cell_type": "code",
      "execution_count": null,
      "metadata": {
        "id": "G3qXhQ6OaBrI"
      },
      "outputs": [],
      "source": [
        "not False"
      ]
    },
    {
      "cell_type": "code",
      "execution_count": null,
      "metadata": {
        "id": "SPmPDiQpaDn-"
      },
      "outputs": [],
      "source": [
        "not 1 == 33"
      ]
    },
    {
      "cell_type": "markdown",
      "metadata": {
        "id": "hEGqHGv6aHjM"
      },
      "source": [
        "このように `not` はあとに続くBool値を反転します。これを用いて `count` が5 **ではない** 限りループを繰り返すコードを `while` 文を使って書いてみましょう。"
      ]
    },
    {
      "cell_type": "code",
      "execution_count": null,
      "metadata": {
        "id": "0be1TU09aGVM"
      },
      "outputs": [],
      "source": [
        "count = 0\n",
        "\n",
        "while not count == 5:\n",
        "    print(count)\n",
        "    count += 1"
      ]
    },
    {
      "cell_type": "markdown",
      "metadata": {
        "id": "4Gn8kHDqbLXv"
      },
      "source": [
        "# 確認テスト\n",
        "\n",
        "# Station3\n",
        "\n",
        "- `a = [1, 4, 6, 7, 9, 10, 12, 13]` というリストに対して以下の操作を行うコードを書いてください。\n",
        "\n",
        "  (1) `a` の要素が偶数ならば `even` 奇数ならば `odd` と表示する。`ここをフォームに記述する`欄を埋めて、その内容を回答フォームに入力してください。\n",
        "  \n",
        "  (2) `a` の要素が3の倍数ならば `!` と表示する。3の倍数であるということは，3で割ったあまりが0であるということです。`ここをフォームに記述する`欄を埋めて、その内容を回答フォームに入力してください。\n",
        "\n",
        "- FizzBuzz というゲームを知っていますか？英語圏で飲み会や長距離ドライブの際に行われる言葉遊びで，3の倍数ならFizz，5の倍数ならBuzz，15の倍数ならFizzBuzzと唱えます。そのどれでもなければ，その数をそのまま答えます。1から100までFizzBuzzゲームをするコードを完成させてください。15の倍数は3の倍数でも5の倍数でもあり，少し工夫が必要です。`range(1, 100 + 1)` は `1` から `100` までの数を返すイテラブルオブジェクトです。\n",
        "  \n",
        "  (3) もし`i`が15の倍数なら、を表すコードを`if`を使って記述してください。`ここをフォームに記述する`欄を埋めて、その内容を回答フォームに入力してください。\n",
        "  \n",
        "  (4) そのいずれかでもなければ、を表すコードを`else`を使って記述してください。`ここをフォームに記述する`欄を埋めて、その内容を回答フォームに入力してください。"
      ]
    },
    {
      "cell_type": "code",
      "execution_count": null,
      "metadata": {
        "id": "THHE5keMcI62",
        "colab": {
          "base_uri": "https://localhost:8080/"
        },
        "outputId": "81d6ec7e-f1ad-46a6-a46b-1432a5b7df31"
      },
      "outputs": [
        {
          "output_type": "stream",
          "name": "stdout",
          "text": [
            "odd\n",
            "even\n",
            "even\n",
            "odd\n",
            "odd\n",
            "even\n",
            "even\n",
            "odd\n",
            "!\n",
            "!\n",
            "!\n"
          ]
        }
      ],
      "source": [
        "a = [1, 4, 6, 7, 9, 10, 12, 13]\n",
        "\n",
        "for i in a:\n",
        "    if i%2==0: # (1) aの要素が偶数ならば\n",
        "        print(\"even\") # evenと表示する\n",
        "    else: # aの要素が奇数(偶数ではない)ならば\n",
        "        print(\"odd\") # oddと表示する\n",
        "for i in a:\n",
        "    if i%3==0: # (2) aが3の倍数ならば\n",
        "        print(\"!\") # ! と表示する"
      ]
    },
    {
      "cell_type": "code",
      "execution_count": null,
      "metadata": {
        "id": "oLl681RtcqTv"
      },
      "outputs": [],
      "source": [
        "for i in range(1, 100 + 1):\n",
        "    # (3) もしiが15の倍数なら ( if を使ってみましょう )\n",
        "    if i%15==0:\n",
        "        print(\"FizzBuzz\")\n",
        "    # もしiが5の倍数なら ( elif を使ってみましょう )\n",
        "    elif a%5==0:\n",
        "        print(\"Fizz\")\n",
        "    # もしiが3の倍数なら ( elif を使ってみましょう )\n",
        "    elif i%3==0\n",
        "        print(\"Buzz\")\n",
        "    # (4) そのいずれかでもなければ ( else を使ってみましょう )\n",
        "    else: \n",
        "        print(i)"
      ]
    }
  ],
  "metadata": {
    "colab": {
      "provenance": []
    },
    "kernelspec": {
      "display_name": "Python 3",
      "name": "python3"
    },
    "language_info": {
      "name": "python"
    }
  },
  "nbformat": 4,
  "nbformat_minor": 0
}